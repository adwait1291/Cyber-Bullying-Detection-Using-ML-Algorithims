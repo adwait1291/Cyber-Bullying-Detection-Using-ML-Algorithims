{
 "cells": [
  {
   "cell_type": "code",
   "execution_count": 1,
   "id": "2f9886d7",
   "metadata": {
    "execution": {
     "iopub.execute_input": "2021-11-07T17:22:07.532388Z",
     "iopub.status.busy": "2021-11-07T17:22:07.530578Z",
     "iopub.status.idle": "2021-11-07T17:22:09.283804Z",
     "shell.execute_reply": "2021-11-07T17:22:09.283222Z",
     "shell.execute_reply.started": "2021-11-02T05:35:43.286798Z"
    },
    "id": "b068286a",
    "outputId": "81f8ff19-24e0-4e06-bd71-155e16949651",
    "papermill": {
     "duration": 1.793475,
     "end_time": "2021-11-07T17:22:09.284101",
     "exception": false,
     "start_time": "2021-11-07T17:22:07.490626",
     "status": "completed"
    },
    "tags": []
   },
   "outputs": [],
   "source": [
    "import numpy as np\n",
    "import pandas as pd\n",
    "import matplotlib.pyplot as plt\n",
    "url = 'https://raw.githubusercontent.com/adwait1291/try/main/Suspicious%20Communication%20on%20Social%20Platforms.csv'\n",
    "df = pd.read_csv(url)\n",
    "df.head()\n",
    "import nltk"
   ]
  },
  {
   "cell_type": "code",
   "execution_count": 2,
   "id": "8964d4be",
   "metadata": {
    "execution": {
     "iopub.execute_input": "2021-11-07T17:22:09.361899Z",
     "iopub.status.busy": "2021-11-07T17:22:09.361363Z",
     "iopub.status.idle": "2021-11-07T17:22:09.367375Z",
     "shell.execute_reply": "2021-11-07T17:22:09.366970Z",
     "shell.execute_reply.started": "2021-11-02T05:24:41.47744Z"
    },
    "papermill": {
     "duration": 0.04875,
     "end_time": "2021-11-07T17:22:09.367481",
     "exception": false,
     "start_time": "2021-11-07T17:22:09.318731",
     "status": "completed"
    },
    "tags": []
   },
   "outputs": [
    {
     "data": {
      "text/plain": [
       "'3.2.4'"
      ]
     },
     "execution_count": 2,
     "metadata": {},
     "output_type": "execute_result"
    }
   ],
   "source": [
    "nltk.__version__"
   ]
  },
  {
   "cell_type": "markdown",
   "id": "5062fd37",
   "metadata": {
    "papermill": {
     "duration": 0.034325,
     "end_time": "2021-11-07T17:22:09.436424",
     "exception": false,
     "start_time": "2021-11-07T17:22:09.402099",
     "status": "completed"
    },
    "tags": []
   },
   "source": [
    "# Preprocessing"
   ]
  },
  {
   "cell_type": "code",
   "execution_count": 3,
   "id": "2544b154",
   "metadata": {
    "execution": {
     "iopub.execute_input": "2021-11-07T17:22:09.509915Z",
     "iopub.status.busy": "2021-11-07T17:22:09.509262Z",
     "iopub.status.idle": "2021-11-07T17:22:09.511674Z",
     "shell.execute_reply": "2021-11-07T17:22:09.512092Z",
     "shell.execute_reply.started": "2021-11-02T05:24:42.477628Z"
    },
    "id": "5966c269",
    "outputId": "eb1bc894-6b23-450a-a1ef-0e432c4140ce",
    "papermill": {
     "duration": 0.04167,
     "end_time": "2021-11-07T17:22:09.512211",
     "exception": false,
     "start_time": "2021-11-07T17:22:09.470541",
     "status": "completed"
    },
    "tags": []
   },
   "outputs": [
    {
     "data": {
      "text/plain": [
       "(20001, 2)"
      ]
     },
     "execution_count": 3,
     "metadata": {},
     "output_type": "execute_result"
    }
   ],
   "source": [
    "df.shape"
   ]
  },
  {
   "cell_type": "code",
   "execution_count": 4,
   "id": "1bf874bc",
   "metadata": {
    "execution": {
     "iopub.execute_input": "2021-11-07T17:22:09.591309Z",
     "iopub.status.busy": "2021-11-07T17:22:09.589028Z",
     "iopub.status.idle": "2021-11-07T17:22:09.596575Z",
     "shell.execute_reply": "2021-11-07T17:22:09.596963Z",
     "shell.execute_reply.started": "2021-11-02T05:25:12.557871Z"
    },
    "id": "1886ab31",
    "papermill": {
     "duration": 0.050388,
     "end_time": "2021-11-07T17:22:09.597087",
     "exception": false,
     "start_time": "2021-11-07T17:22:09.546699",
     "status": "completed"
    },
    "tags": []
   },
   "outputs": [],
   "source": [
    "df=df[pd.to_numeric(df['tagging'], errors='coerce').notnull()]"
   ]
  },
  {
   "cell_type": "code",
   "execution_count": 5,
   "id": "81a39e59",
   "metadata": {
    "execution": {
     "iopub.execute_input": "2021-11-07T17:22:09.720582Z",
     "iopub.status.busy": "2021-11-07T17:22:09.719746Z",
     "iopub.status.idle": "2021-11-07T17:22:09.724842Z",
     "shell.execute_reply": "2021-11-07T17:22:09.724400Z",
     "shell.execute_reply.started": "2021-11-02T05:25:14.997686Z"
    },
    "id": "fab0a1d2",
    "papermill": {
     "duration": 0.09345,
     "end_time": "2021-11-07T17:22:09.724976",
     "exception": false,
     "start_time": "2021-11-07T17:22:09.631526",
     "status": "completed"
    },
    "tags": []
   },
   "outputs": [],
   "source": [
    "df = df.dropna(axis=0)"
   ]
  },
  {
   "cell_type": "code",
   "execution_count": 6,
   "id": "4df86968",
   "metadata": {
    "execution": {
     "iopub.execute_input": "2021-11-07T17:22:09.801132Z",
     "iopub.status.busy": "2021-11-07T17:22:09.800302Z",
     "iopub.status.idle": "2021-11-07T17:22:09.803365Z",
     "shell.execute_reply": "2021-11-07T17:22:09.803790Z",
     "shell.execute_reply.started": "2021-11-02T05:25:20.478493Z"
    },
    "id": "862a3350",
    "outputId": "f2219fbb-3c79-4541-b797-a8b3dfe9fbb8",
    "papermill": {
     "duration": 0.043539,
     "end_time": "2021-11-07T17:22:09.803990",
     "exception": false,
     "start_time": "2021-11-07T17:22:09.760451",
     "status": "completed"
    },
    "tags": []
   },
   "outputs": [
    {
     "data": {
      "text/plain": [
       "(20001, 2)"
      ]
     },
     "execution_count": 6,
     "metadata": {},
     "output_type": "execute_result"
    }
   ],
   "source": [
    "df.shape"
   ]
  },
  {
   "cell_type": "code",
   "execution_count": 7,
   "id": "29889a28",
   "metadata": {
    "execution": {
     "iopub.execute_input": "2021-11-07T17:22:09.880125Z",
     "iopub.status.busy": "2021-11-07T17:22:09.879449Z",
     "iopub.status.idle": "2021-11-07T17:22:09.882127Z",
     "shell.execute_reply": "2021-11-07T17:22:09.881659Z",
     "shell.execute_reply.started": "2021-11-02T05:25:22.957824Z"
    },
    "id": "cd174566",
    "papermill": {
     "duration": 0.04279,
     "end_time": "2021-11-07T17:22:09.882234",
     "exception": false,
     "start_time": "2021-11-07T17:22:09.839444",
     "status": "completed"
    },
    "tags": []
   },
   "outputs": [],
   "source": [
    "import string\n",
    "from nltk import pos_tag\n",
    "def tokenize_remove_punctuation(text):\n",
    "  clean_text = []\n",
    "  text = text.split(\" \")\n",
    "  for word in text:\n",
    "    word = list(word)\n",
    "    new_word = []\n",
    "    for c in word:\n",
    "      if c not in string.punctuation:\n",
    "        new_word.append(c)\n",
    "      word = \"\".join(new_word)\n",
    "    clean_text.append(word)\n",
    "  return clean_text\n"
   ]
  },
  {
   "cell_type": "code",
   "execution_count": 8,
   "id": "98334ea7",
   "metadata": {
    "execution": {
     "iopub.execute_input": "2021-11-07T17:22:09.958751Z",
     "iopub.status.busy": "2021-11-07T17:22:09.958069Z",
     "iopub.status.idle": "2021-11-07T17:22:09.960803Z",
     "shell.execute_reply": "2021-11-07T17:22:09.961237Z",
     "shell.execute_reply.started": "2021-11-02T05:25:26.078011Z"
    },
    "id": "b8d8a2b8",
    "outputId": "943e5346-cf7b-44ba-fa0a-fa0af213ada1",
    "papermill": {
     "duration": 0.043803,
     "end_time": "2021-11-07T17:22:09.961364",
     "exception": false,
     "start_time": "2021-11-07T17:22:09.917561",
     "status": "completed"
    },
    "tags": []
   },
   "outputs": [
    {
     "data": {
      "text/plain": [
       "['hello',\n",
       " 'anyone',\n",
       " 'reading',\n",
       " 'wt',\n",
       " 'is',\n",
       " 'the',\n",
       " 'name',\n",
       " 'of',\n",
       " 'am',\n",
       " 'in',\n",
       " 'that',\n",
       " 'this',\n",
       " [],\n",
       " '']"
      ]
     },
     "execution_count": 8,
     "metadata": {},
     "output_type": "execute_result"
    }
   ],
   "source": [
    "trial_text = tokenize_remove_punctuation(\"hello @anyone reading? wt is the name of am in that this  ??!@\")\n",
    "trial_text"
   ]
  },
  {
   "cell_type": "code",
   "execution_count": 9,
   "id": "e5026a1e",
   "metadata": {
    "execution": {
     "iopub.execute_input": "2021-11-07T17:22:10.041837Z",
     "iopub.status.busy": "2021-11-07T17:22:10.034973Z",
     "iopub.status.idle": "2021-11-07T17:22:10.326408Z",
     "shell.execute_reply": "2021-11-07T17:22:10.327005Z",
     "shell.execute_reply.started": "2021-11-02T05:25:27.558469Z"
    },
    "id": "8e7a9345",
    "outputId": "c3d67bb1-8341-4614-e84b-b2d4ef5d3da3",
    "papermill": {
     "duration": 0.330189,
     "end_time": "2021-11-07T17:22:10.327184",
     "exception": false,
     "start_time": "2021-11-07T17:22:09.996995",
     "status": "completed"
    },
    "tags": []
   },
   "outputs": [
    {
     "name": "stdout",
     "output_type": "stream",
     "text": [
      "[nltk_data] Downloading package stopwords to /usr/share/nltk_data...\n",
      "[nltk_data]   Unzipping corpora/stopwords.zip.\n"
     ]
    },
    {
     "data": {
      "text/plain": [
       "True"
      ]
     },
     "execution_count": 9,
     "metadata": {},
     "output_type": "execute_result"
    }
   ],
   "source": [
    "import nltk\n",
    "nltk.download('stopwords')"
   ]
  },
  {
   "cell_type": "code",
   "execution_count": 10,
   "id": "54e06c4d",
   "metadata": {
    "execution": {
     "iopub.execute_input": "2021-11-07T17:22:10.442881Z",
     "iopub.status.busy": "2021-11-07T17:22:10.442143Z",
     "iopub.status.idle": "2021-11-07T17:22:10.451046Z",
     "shell.execute_reply": "2021-11-07T17:22:10.450510Z",
     "shell.execute_reply.started": "2021-11-02T05:25:29.212878Z"
    },
    "id": "015b0464",
    "papermill": {
     "duration": 0.083615,
     "end_time": "2021-11-07T17:22:10.451165",
     "exception": false,
     "start_time": "2021-11-07T17:22:10.367550",
     "status": "completed"
    },
    "tags": []
   },
   "outputs": [],
   "source": [
    "stopwords = nltk.corpus.stopwords.words('english')\n",
    "def remove_stopwords(text):\n",
    "  clean_text = []\n",
    "  for word in text:\n",
    "    if word not in stopwords:\n",
    "      clean_text.append(word)\n",
    "  return clean_text"
   ]
  },
  {
   "cell_type": "code",
   "execution_count": 11,
   "id": "cf3011a8",
   "metadata": {
    "execution": {
     "iopub.execute_input": "2021-11-07T17:22:10.582373Z",
     "iopub.status.busy": "2021-11-07T17:22:10.581563Z",
     "iopub.status.idle": "2021-11-07T17:22:10.587045Z",
     "shell.execute_reply": "2021-11-07T17:22:10.587781Z",
     "shell.execute_reply.started": "2021-11-02T05:25:31.438203Z"
    },
    "id": "02627d63",
    "outputId": "eae13a40-c58c-49fa-e329-37d3aec3d2af",
    "papermill": {
     "duration": 0.071768,
     "end_time": "2021-11-07T17:22:10.588041",
     "exception": false,
     "start_time": "2021-11-07T17:22:10.516273",
     "status": "completed"
    },
    "tags": []
   },
   "outputs": [
    {
     "data": {
      "text/plain": [
       "['hello', 'anyone', 'reading', 'wt', 'name', [], '']"
      ]
     },
     "execution_count": 11,
     "metadata": {},
     "output_type": "execute_result"
    }
   ],
   "source": [
    "remove_stopwords(trial_text)"
   ]
  },
  {
   "cell_type": "code",
   "execution_count": 12,
   "id": "4da8ba60",
   "metadata": {
    "execution": {
     "iopub.execute_input": "2021-11-07T17:22:10.729767Z",
     "iopub.status.busy": "2021-11-07T17:22:10.728765Z",
     "iopub.status.idle": "2021-11-07T17:22:10.731299Z",
     "shell.execute_reply": "2021-11-07T17:22:10.730497Z",
     "shell.execute_reply.started": "2021-11-02T05:25:32.288123Z"
    },
    "id": "54b6521c",
    "papermill": {
     "duration": 0.074932,
     "end_time": "2021-11-07T17:22:10.731464",
     "exception": false,
     "start_time": "2021-11-07T17:22:10.656532",
     "status": "completed"
    },
    "tags": []
   },
   "outputs": [],
   "source": [
    "def pos_tagging(text):\n",
    "    try:\n",
    "        tagged = nltk.pos_tag(text)\n",
    "        return tagged\n",
    "    except Excepton as e:\n",
    "        print(e)"
   ]
  },
  {
   "cell_type": "code",
   "execution_count": 13,
   "id": "8de298b7",
   "metadata": {
    "execution": {
     "iopub.execute_input": "2021-11-07T17:22:10.864914Z",
     "iopub.status.busy": "2021-11-07T17:22:10.864112Z",
     "iopub.status.idle": "2021-11-07T17:22:10.867102Z",
     "shell.execute_reply": "2021-11-07T17:22:10.867676Z",
     "shell.execute_reply.started": "2021-11-02T05:25:32.927846Z"
    },
    "id": "0dc9b7a0",
    "papermill": {
     "duration": 0.072566,
     "end_time": "2021-11-07T17:22:10.867858",
     "exception": false,
     "start_time": "2021-11-07T17:22:10.795292",
     "status": "completed"
    },
    "tags": []
   },
   "outputs": [],
   "source": [
    "from nltk.corpus import wordnet\n",
    "def get_wordnet(pos_tag):\n",
    "  if pos_tag.startswith('J'):\n",
    "    return wordnet.ADJ\n",
    "  elif pos_tag.startswith('V'):\n",
    "    return wordnet.VERB\n",
    "  elif pos_tag.startswith('N'):\n",
    "    return wordnet.NOUN\n",
    "  elif pos_tag.startswith('R'):\n",
    "    return wordnet.ADV\n",
    "  else:\n",
    "    return wordnet.NOUN"
   ]
  },
  {
   "cell_type": "code",
   "execution_count": 14,
   "id": "991de580",
   "metadata": {
    "execution": {
     "iopub.execute_input": "2021-11-07T17:22:10.985864Z",
     "iopub.status.busy": "2021-11-07T17:22:10.985076Z",
     "iopub.status.idle": "2021-11-07T17:22:10.987449Z",
     "shell.execute_reply": "2021-11-07T17:22:10.987046Z",
     "shell.execute_reply.started": "2021-11-02T05:25:33.687784Z"
    },
    "id": "dab1ca50",
    "papermill": {
     "duration": 0.059501,
     "end_time": "2021-11-07T17:22:10.987554",
     "exception": false,
     "start_time": "2021-11-07T17:22:10.928053",
     "status": "completed"
    },
    "tags": []
   },
   "outputs": [],
   "source": [
    "from nltk.stem import WordNetLemmatizer\n",
    "def clean_text(text):\n",
    "  text = str(text)\n",
    "  #Converting text to lower-case\n",
    "  text = text.lower()\n",
    "  #tokenize and remove punctuations from the text\n",
    "  text = tokenize_remove_punctuation(text)\n",
    "  #remove words containing numericals\n",
    "  text = [word for word in text if not any(c.isdigit() for c in word)]\n",
    "  #remove stopwords\n",
    "  text = remove_stopwords(text)\n",
    "  #remove empty tokens\n",
    "  text = [ t for t in text if len(t) > 0]\n",
    "  #pos tagging\n",
    "  pos_tags = pos_tagging(text)\n",
    "  #Lemmatize text\n",
    "  text = [WordNetLemmatizer().lemmatize(t[0],get_wordnet(t[1])) for t in pos_tags]\n",
    "  #remove words with only one letter\n",
    "  text = [ t for t in text if len(t)>1]\n",
    "  #join all words\n",
    "  text = \" \".join(text)\n",
    "  return text"
   ]
  },
  {
   "cell_type": "code",
   "execution_count": 15,
   "id": "2494487b",
   "metadata": {
    "execution": {
     "iopub.execute_input": "2021-11-07T17:22:11.063388Z",
     "iopub.status.busy": "2021-11-07T17:22:11.062562Z",
     "iopub.status.idle": "2021-11-07T17:22:11.125220Z",
     "shell.execute_reply": "2021-11-07T17:22:11.124538Z",
     "shell.execute_reply.started": "2021-11-02T05:25:34.577716Z"
    },
    "id": "6d3048bc",
    "outputId": "dd802d64-0420-4033-ab54-622eaebbe9a5",
    "papermill": {
     "duration": 0.101421,
     "end_time": "2021-11-07T17:22:11.125361",
     "exception": false,
     "start_time": "2021-11-07T17:22:11.023940",
     "status": "completed"
    },
    "tags": []
   },
   "outputs": [
    {
     "name": "stdout",
     "output_type": "stream",
     "text": [
      "[nltk_data] Downloading package averaged_perceptron_tagger to\n",
      "[nltk_data]     /usr/share/nltk_data...\n",
      "[nltk_data]   Package averaged_perceptron_tagger is already up-to-\n",
      "[nltk_data]       date!\n",
      "[nltk_data] Downloading package wordnet to /usr/share/nltk_data...\n",
      "[nltk_data]   Package wordnet is already up-to-date!\n"
     ]
    },
    {
     "data": {
      "text/plain": [
       "True"
      ]
     },
     "execution_count": 15,
     "metadata": {},
     "output_type": "execute_result"
    }
   ],
   "source": [
    "nltk.download('averaged_perceptron_tagger')\n",
    "nltk.download('wordnet')"
   ]
  },
  {
   "cell_type": "code",
   "execution_count": 16,
   "id": "e9bf3d70",
   "metadata": {
    "execution": {
     "iopub.execute_input": "2021-11-07T17:22:11.203136Z",
     "iopub.status.busy": "2021-11-07T17:22:11.202582Z",
     "iopub.status.idle": "2021-11-07T17:22:13.119481Z",
     "shell.execute_reply": "2021-11-07T17:22:13.118562Z",
     "shell.execute_reply.started": "2021-11-02T05:25:35.477693Z"
    },
    "id": "fd56b980",
    "outputId": "b8385a68-21b4-4547-fbf7-6b476e1e36c5",
    "papermill": {
     "duration": 1.9575,
     "end_time": "2021-11-07T17:22:13.119620",
     "exception": false,
     "start_time": "2021-11-07T17:22:11.162120",
     "status": "completed"
    },
    "tags": []
   },
   "outputs": [
    {
     "data": {
      "text/plain": [
       "'name cat'"
      ]
     },
     "execution_count": 16,
     "metadata": {},
     "output_type": "execute_result"
    }
   ],
   "source": [
    "clean_text(\"What is y0ur name? THis is a cat!! 12?\")"
   ]
  },
  {
   "cell_type": "code",
   "execution_count": 17,
   "id": "b7942547",
   "metadata": {
    "execution": {
     "iopub.execute_input": "2021-11-07T17:22:13.201497Z",
     "iopub.status.busy": "2021-11-07T17:22:13.200847Z",
     "iopub.status.idle": "2021-11-07T17:22:13.413059Z",
     "shell.execute_reply": "2021-11-07T17:22:13.412505Z",
     "shell.execute_reply.started": "2021-11-02T05:25:52.359019Z"
    },
    "id": "8aa631fa",
    "outputId": "150fdb63-f91d-46a6-e012-f83d4f533cfc",
    "papermill": {
     "duration": 0.256056,
     "end_time": "2021-11-07T17:22:13.413201",
     "exception": false,
     "start_time": "2021-11-07T17:22:13.157145",
     "status": "completed"
    },
    "tags": []
   },
   "outputs": [
    {
     "data": {
      "text/plain": [
       "<AxesSubplot:title={'center':'Ratio of observations'}>"
      ]
     },
     "execution_count": 17,
     "metadata": {},
     "output_type": "execute_result"
    },
    {
     "data": {
      "image/png": "[encoded data removed]",
      "text/plain": [
       "<Figure size 432x288 with 1 Axes>"
      ]
     },
     "metadata": {
      "needs_background": "light"
     },
     "output_type": "display_data"
    }
   ],
   "source": [
    "df['tagging'].value_counts(normalize=True).plot(kind='bar', title='Ratio of observations')"
   ]
  },
  {
   "cell_type": "code",
   "execution_count": 18,
   "id": "3d836434",
   "metadata": {
    "execution": {
     "iopub.execute_input": "2021-11-07T17:22:13.519837Z",
     "iopub.status.busy": "2021-11-07T17:22:13.518263Z",
     "iopub.status.idle": "2021-11-07T17:22:13.520407Z",
     "shell.execute_reply": "2021-11-07T17:22:13.520835Z",
     "shell.execute_reply.started": "2021-11-02T05:26:20.923564Z"
    },
    "id": "e6d9476f",
    "papermill": {
     "duration": 0.069784,
     "end_time": "2021-11-07T17:22:13.520968",
     "exception": false,
     "start_time": "2021-11-07T17:22:13.451184",
     "status": "completed"
    },
    "tags": []
   },
   "outputs": [],
   "source": [
    "df['tagging']=df['tagging'].astype(str).astype(int)"
   ]
  },
  {
   "cell_type": "code",
   "execution_count": 19,
   "id": "a16f8a83",
   "metadata": {
    "execution": {
     "iopub.execute_input": "2021-11-07T17:22:13.603516Z",
     "iopub.status.busy": "2021-11-07T17:22:13.602710Z",
     "iopub.status.idle": "2021-11-07T17:22:13.613261Z",
     "shell.execute_reply": "2021-11-07T17:22:13.613762Z",
     "shell.execute_reply.started": "2021-11-02T05:26:22.997924Z"
    },
    "id": "4c64a47a",
    "outputId": "28bbcd98-8c9f-42c2-d625-f7653fc568c1",
    "papermill": {
     "duration": 0.054797,
     "end_time": "2021-11-07T17:22:13.613912",
     "exception": false,
     "start_time": "2021-11-07T17:22:13.559115",
     "status": "completed"
    },
    "tags": []
   },
   "outputs": [
    {
     "name": "stdout",
     "output_type": "stream",
     "text": [
      "<class 'pandas.core.frame.DataFrame'>\n",
      "Int64Index: 20001 entries, 0 to 20000\n",
      "Data columns (total 2 columns):\n",
      " #   Column    Non-Null Count  Dtype \n",
      "---  ------    --------------  ----- \n",
      " 0   comments  20001 non-null  object\n",
      " 1   tagging   20001 non-null  int64 \n",
      "dtypes: int64(1), object(1)\n",
      "memory usage: 468.8+ KB\n"
     ]
    }
   ],
   "source": [
    "df.info()"
   ]
  },
  {
   "cell_type": "code",
   "execution_count": 20,
   "id": "32e86fc9",
   "metadata": {
    "execution": {
     "iopub.execute_input": "2021-11-07T17:22:13.696707Z",
     "iopub.status.busy": "2021-11-07T17:22:13.696073Z",
     "iopub.status.idle": "2021-11-07T17:22:13.698570Z",
     "shell.execute_reply": "2021-11-07T17:22:13.699112Z",
     "shell.execute_reply.started": "2021-11-02T05:26:27.397534Z"
    },
    "id": "37a834b5",
    "outputId": "26a3cfbd-7483-4e0d-b28f-c096b606e35e",
    "papermill": {
     "duration": 0.044831,
     "end_time": "2021-11-07T17:22:13.699238",
     "exception": false,
     "start_time": "2021-11-07T17:22:13.654407",
     "status": "completed"
    },
    "tags": []
   },
   "outputs": [
    {
     "data": {
      "text/plain": [
       "(20001, 2)"
      ]
     },
     "execution_count": 20,
     "metadata": {},
     "output_type": "execute_result"
    }
   ],
   "source": [
    "df.shape"
   ]
  },
  {
   "cell_type": "code",
   "execution_count": 21,
   "id": "11b5bb3f",
   "metadata": {
    "execution": {
     "iopub.execute_input": "2021-11-07T17:22:13.781370Z",
     "iopub.status.busy": "2021-11-07T17:22:13.780606Z",
     "iopub.status.idle": "2021-11-07T17:22:13.782733Z",
     "shell.execute_reply": "2021-11-07T17:22:13.783199Z",
     "shell.execute_reply.started": "2021-11-02T05:26:29.278172Z"
    },
    "id": "26c5d39d",
    "papermill": {
     "duration": 0.04519,
     "end_time": "2021-11-07T17:22:13.783329",
     "exception": false,
     "start_time": "2021-11-07T17:22:13.738139",
     "status": "completed"
    },
    "tags": []
   },
   "outputs": [],
   "source": [
    "df.reset_index(inplace = True, drop = True)"
   ]
  },
  {
   "cell_type": "code",
   "execution_count": 22,
   "id": "fd2a83a1",
   "metadata": {
    "execution": {
     "iopub.execute_input": "2021-11-07T17:22:13.864078Z",
     "iopub.status.busy": "2021-11-07T17:22:13.863278Z",
     "iopub.status.idle": "2021-11-07T17:22:28.386888Z",
     "shell.execute_reply": "2021-11-07T17:22:28.385983Z",
     "shell.execute_reply.started": "2021-11-02T05:26:59.998205Z"
    },
    "id": "c7d12c9b",
    "papermill": {
     "duration": 14.564294,
     "end_time": "2021-11-07T17:22:28.387071",
     "exception": false,
     "start_time": "2021-11-07T17:22:13.822777",
     "status": "completed"
    },
    "tags": []
   },
   "outputs": [],
   "source": [
    "df['Processed_Comment'] = df['comments'].map(clean_text)"
   ]
  },
  {
   "cell_type": "code",
   "execution_count": 23,
   "id": "a54492db",
   "metadata": {
    "execution": {
     "iopub.execute_input": "2021-11-07T17:22:28.470705Z",
     "iopub.status.busy": "2021-11-07T17:22:28.470170Z",
     "iopub.status.idle": "2021-11-07T17:22:28.476785Z",
     "shell.execute_reply": "2021-11-07T17:22:28.476318Z",
     "shell.execute_reply.started": "2021-11-02T05:27:30.862805Z"
    },
    "id": "86547deb",
    "papermill": {
     "duration": 0.050042,
     "end_time": "2021-11-07T17:22:28.476927",
     "exception": false,
     "start_time": "2021-11-07T17:22:28.426885",
     "status": "completed"
    },
    "tags": []
   },
   "outputs": [],
   "source": [
    "#Splitting dataset for training and testing(80:20)\n",
    "from sklearn.model_selection import train_test_split\n",
    "X_train, X_test, y_train, y_test = train_test_split(df['Processed_Comment'], \n",
    "                                                    df['tagging'], \n",
    "                                                    random_state=42,test_size=0.20)\n"
   ]
  },
  {
   "cell_type": "code",
   "execution_count": 24,
   "id": "de3193f1",
   "metadata": {
    "execution": {
     "iopub.execute_input": "2021-11-07T17:22:28.608894Z",
     "iopub.status.busy": "2021-11-07T17:22:28.603723Z",
     "iopub.status.idle": "2021-11-07T17:22:28.804856Z",
     "shell.execute_reply": "2021-11-07T17:22:28.804406Z",
     "shell.execute_reply.started": "2021-11-02T05:27:32.483109Z"
    },
    "id": "d2003ba5",
    "papermill": {
     "duration": 0.288811,
     "end_time": "2021-11-07T17:22:28.804992",
     "exception": false,
     "start_time": "2021-11-07T17:22:28.516181",
     "status": "completed"
    },
    "tags": []
   },
   "outputs": [],
   "source": [
    "#Creating a bag of words from training data\n",
    "from sklearn.feature_extraction.text import CountVectorizer, TfidfVectorizer\n",
    "count_vector = CountVectorizer()\n",
    "X_train = count_vector.fit_transform(X_train)\n",
    "X_test = count_vector.transform(X_test)"
   ]
  },
  {
   "cell_type": "code",
   "execution_count": 25,
   "id": "4a1be2e5",
   "metadata": {
    "execution": {
     "iopub.execute_input": "2021-11-07T17:22:28.885950Z",
     "iopub.status.busy": "2021-11-07T17:22:28.885148Z",
     "iopub.status.idle": "2021-11-07T17:22:28.887986Z",
     "shell.execute_reply": "2021-11-07T17:22:28.888386Z",
     "shell.execute_reply.started": "2021-11-02T05:27:34.797946Z"
    },
    "id": "c3044cde",
    "outputId": "21d71344-621a-4fa5-efaf-f696152289d7",
    "papermill": {
     "duration": 0.045125,
     "end_time": "2021-11-07T17:22:28.888514",
     "exception": false,
     "start_time": "2021-11-07T17:22:28.843389",
     "status": "completed"
    },
    "tags": []
   },
   "outputs": [
    {
     "data": {
      "text/plain": [
       "13816"
      ]
     },
     "execution_count": 25,
     "metadata": {},
     "output_type": "execute_result"
    }
   ],
   "source": [
    "len(count_vector.vocabulary_)"
   ]
  },
  {
   "cell_type": "code",
   "execution_count": 26,
   "id": "b16db899",
   "metadata": {
    "execution": {
     "iopub.execute_input": "2021-11-07T17:22:28.969164Z",
     "iopub.status.busy": "2021-11-07T17:22:28.968361Z",
     "iopub.status.idle": "2021-11-07T17:22:28.972777Z",
     "shell.execute_reply": "2021-11-07T17:22:28.972346Z",
     "shell.execute_reply.started": "2021-11-02T05:27:36.077877Z"
    },
    "id": "b392ac95",
    "papermill": {
     "duration": 0.045796,
     "end_time": "2021-11-07T17:22:28.972907",
     "exception": false,
     "start_time": "2021-11-07T17:22:28.927111",
     "status": "completed"
    },
    "tags": []
   },
   "outputs": [],
   "source": [
    "from sklearn.metrics import f1_score, accuracy_score, precision_score, recall_score\n",
    "from sklearn.metrics import confusion_matrix\n",
    "data =[]"
   ]
  },
  {
   "cell_type": "code",
   "execution_count": 27,
   "id": "c004b421",
   "metadata": {
    "execution": {
     "iopub.execute_input": "2021-11-07T17:22:29.054203Z",
     "iopub.status.busy": "2021-11-07T17:22:29.053485Z",
     "iopub.status.idle": "2021-11-07T17:22:29.102678Z",
     "shell.execute_reply": "2021-11-07T17:22:29.102269Z",
     "shell.execute_reply.started": "2021-11-02T05:27:39.078166Z"
    },
    "id": "U8_ssXPBAYrO",
    "papermill": {
     "duration": 0.09085,
     "end_time": "2021-11-07T17:22:29.102783",
     "exception": false,
     "start_time": "2021-11-07T17:22:29.011933",
     "status": "completed"
    },
    "tags": []
   },
   "outputs": [],
   "source": [
    "from sklearn.neighbors import KNeighborsClassifier  \n",
    "from sklearn.linear_model import LogisticRegression\n",
    "from sklearn.naive_bayes import MultinomialNB\n",
    "from sklearn.svm import LinearSVC\n",
    "from sklearn.model_selection import GridSearchCV"
   ]
  },
  {
   "cell_type": "code",
   "execution_count": 28,
   "id": "0405fa77",
   "metadata": {
    "execution": {
     "iopub.execute_input": "2021-11-07T17:22:29.182744Z",
     "iopub.status.busy": "2021-11-07T17:22:29.181990Z",
     "iopub.status.idle": "2021-11-07T17:22:29.189265Z",
     "shell.execute_reply": "2021-11-07T17:22:29.189674Z",
     "shell.execute_reply.started": "2021-11-02T05:27:42.557809Z"
    },
    "id": "ylxmP5K8AQwO",
    "papermill": {
     "duration": 0.048277,
     "end_time": "2021-11-07T17:22:29.189789",
     "exception": false,
     "start_time": "2021-11-07T17:22:29.141512",
     "status": "completed"
    },
    "tags": []
   },
   "outputs": [],
   "source": [
    "model_params = {\n",
    "    'LinearSVC': {\n",
    "        'model': LinearSVC(max_iter=1000000,random_state=42),\n",
    "        'params' : {\n",
    "            'C': [0.1,1,5,10,20],\n",
    "        }  \n",
    "    },\n",
    "    'MultinomialNB': {\n",
    "        'model': MultinomialNB(),\n",
    "        'params' : {\n",
    "            'alpha': np.linspace(0.5, 1.5, 6),\n",
    "            'fit_prior': [True, False],\n",
    "        }\n",
    "    },\n",
    "    'logistic_regression' : {\n",
    "        'model': LogisticRegression(random_state=42, multi_class='ovr',max_iter=1000000),\n",
    "        'params': {\n",
    "            'C': [1,5,10],\n",
    "            'solver': ['newton-cg', 'lbfgs', 'liblinear'],\n",
    "        }\n",
    "    },\n",
    "    'KNeighborsClassifier': {\n",
    "        'model': KNeighborsClassifier(p=2 ),\n",
    "        'params' : {\n",
    "            'n_neighbors': [5,9,11,23],\n",
    "              'weights' : ['uniform', 'distance'],\n",
    "              'metric' : ['euclidean', 'manhattan', 'minkowski'],\n",
    "        }\n",
    "    }\n",
    "}"
   ]
  },
  {
   "cell_type": "code",
   "execution_count": 29,
   "id": "28346ec8",
   "metadata": {
    "execution": {
     "iopub.execute_input": "2021-11-07T17:22:29.273257Z",
     "iopub.status.busy": "2021-11-07T17:22:29.272460Z",
     "iopub.status.idle": "2021-11-07T17:27:28.332039Z",
     "shell.execute_reply": "2021-11-07T17:27:28.332564Z"
    },
    "id": "kgVpKki-A9Ck",
    "papermill": {
     "duration": 299.103666,
     "end_time": "2021-11-07T17:27:28.332744",
     "exception": false,
     "start_time": "2021-11-07T17:22:29.229078",
     "status": "completed"
    },
    "tags": []
   },
   "outputs": [
    {
     "data": {
      "text/html": [
       "<div>\n",
       "<style scoped>\n",
       "    .dataframe tbody tr th:only-of-type {\n",
       "        vertical-align: middle;\n",
       "    }\n",
       "\n",
       "    .dataframe tbody tr th {\n",
       "        vertical-align: top;\n",
       "    }\n",
       "\n",
       "    .dataframe thead th {\n",
       "        text-align: right;\n",
       "    }\n",
       "</style>\n",
       "<table border=\"1\" class=\"dataframe\">\n",
       "  <thead>\n",
       "    <tr style=\"text-align: right;\">\n",
       "      <th></th>\n",
       "      <th>model</th>\n",
       "      <th>best_score</th>\n",
       "      <th>best_params</th>\n",
       "    </tr>\n",
       "  </thead>\n",
       "  <tbody>\n",
       "    <tr>\n",
       "      <th>0</th>\n",
       "      <td>LinearSVC</td>\n",
       "      <td>0.830562</td>\n",
       "      <td>{'C': 1}</td>\n",
       "    </tr>\n",
       "    <tr>\n",
       "      <th>1</th>\n",
       "      <td>MultinomialNB</td>\n",
       "      <td>0.765375</td>\n",
       "      <td>{'alpha': 0.5, 'fit_prior': True}</td>\n",
       "    </tr>\n",
       "    <tr>\n",
       "      <th>2</th>\n",
       "      <td>logistic_regression</td>\n",
       "      <td>0.832188</td>\n",
       "      <td>{'C': 10, 'solver': 'newton-cg'}</td>\n",
       "    </tr>\n",
       "    <tr>\n",
       "      <th>3</th>\n",
       "      <td>KNeighborsClassifier</td>\n",
       "      <td>0.782563</td>\n",
       "      <td>{'metric': 'euclidean', 'n_neighbors': 23, 'we...</td>\n",
       "    </tr>\n",
       "  </tbody>\n",
       "</table>\n",
       "</div>"
      ],
      "text/plain": [
       "                  model  best_score  \\\n",
       "0             LinearSVC    0.830562   \n",
       "1         MultinomialNB    0.765375   \n",
       "2   logistic_regression    0.832188   \n",
       "3  KNeighborsClassifier    0.782563   \n",
       "\n",
       "                                         best_params  \n",
       "0                                           {'C': 1}  \n",
       "1                  {'alpha': 0.5, 'fit_prior': True}  \n",
       "2                   {'C': 10, 'solver': 'newton-cg'}  \n",
       "3  {'metric': 'euclidean', 'n_neighbors': 23, 'we...  "
      ]
     },
     "execution_count": 29,
     "metadata": {},
     "output_type": "execute_result"
    }
   ],
   "source": [
    "scores = []\n",
    "\n",
    "for model_name, mp in model_params.items():\n",
    "    clf =  GridSearchCV(mp['model'], mp['params'], cv=5, return_train_score=False)\n",
    "    clf.fit(X_train, y_train)\n",
    "    scores.append({\n",
    "        'model': model_name,\n",
    "        'best_score': clf.best_score_,\n",
    "        'best_params': clf.best_params_\n",
    "    })\n",
    "    \n",
    "df4 = pd.DataFrame(scores,columns=['model','best_score','best_params'])\n",
    "df4"
   ]
  },
  {
   "cell_type": "markdown",
   "id": "dca666ad",
   "metadata": {
    "papermill": {
     "duration": 0.039528,
     "end_time": "2021-11-07T17:27:28.421794",
     "exception": false,
     "start_time": "2021-11-07T17:27:28.382266",
     "status": "completed"
    },
    "tags": []
   },
   "source": [
    "# KNN"
   ]
  },
  {
   "cell_type": "code",
   "execution_count": 30,
   "id": "a818e548",
   "metadata": {
    "execution": {
     "iopub.execute_input": "2021-11-07T17:27:28.507031Z",
     "iopub.status.busy": "2021-11-07T17:27:28.505904Z",
     "iopub.status.idle": "2021-11-07T17:27:28.513855Z",
     "shell.execute_reply": "2021-11-07T17:27:28.513398Z",
     "shell.execute_reply.started": "2021-11-01T15:27:53.020368Z"
    },
    "id": "795234ec",
    "outputId": "954e8331-8ed6-4668-b96b-ee4aaa9011ca",
    "papermill": {
     "duration": 0.051195,
     "end_time": "2021-11-07T17:27:28.513968",
     "exception": false,
     "start_time": "2021-11-07T17:27:28.462773",
     "status": "completed"
    },
    "tags": []
   },
   "outputs": [
    {
     "data": {
      "text/plain": [
       "KNeighborsClassifier(metric='euclidean', n_neighbors=23, weights='distance')"
      ]
     },
     "execution_count": 30,
     "metadata": {},
     "output_type": "execute_result"
    }
   ],
   "source": [
    "model1= KNeighborsClassifier(n_neighbors=23, metric='euclidean',weights = 'distance')  \n",
    "model1.fit(X_train, y_train)  "
   ]
  },
  {
   "cell_type": "code",
   "execution_count": 31,
   "id": "84b84425",
   "metadata": {
    "execution": {
     "iopub.execute_input": "2021-11-07T17:27:28.599284Z",
     "iopub.status.busy": "2021-11-07T17:27:28.598727Z",
     "iopub.status.idle": "2021-11-07T17:27:36.998197Z",
     "shell.execute_reply": "2021-11-07T17:27:36.997677Z",
     "shell.execute_reply.started": "2021-11-01T15:27:57.269936Z"
    },
    "id": "96298cc5",
    "papermill": {
     "duration": 8.44439,
     "end_time": "2021-11-07T17:27:36.998335",
     "exception": false,
     "start_time": "2021-11-07T17:27:28.553945",
     "status": "completed"
    },
    "scrolled": true,
    "tags": []
   },
   "outputs": [],
   "source": [
    "predictions_test = model1.predict(X_test)\n",
    "predictions_train = model1.predict(X_train)\n",
    "temp = ['KNeighborsClassifier']\n",
    "temp.append(accuracy_score(predictions_train,y_train))\n",
    "temp.append(recall_score(predictions_train,y_train))\n",
    "temp.append(f1_score(predictions_train,y_train))\n",
    "temp.append(precision_score(predictions_train,y_train))\n",
    "temp.append(accuracy_score(predictions_test,y_test))\n",
    "temp.append(recall_score(predictions_test,y_test))\n",
    "temp.append(f1_score(predictions_test,y_test))\n",
    "temp.append(precision_score(predictions_test,y_test))\n",
    "data.append(temp)"
   ]
  },
  {
   "cell_type": "code",
   "execution_count": 32,
   "id": "8af14a3e",
   "metadata": {
    "execution": {
     "iopub.execute_input": "2021-11-07T17:27:37.083611Z",
     "iopub.status.busy": "2021-11-07T17:27:37.082752Z",
     "iopub.status.idle": "2021-11-07T17:27:37.092206Z",
     "shell.execute_reply": "2021-11-07T17:27:37.093405Z"
    },
    "id": "ca78da6d",
    "outputId": "a7e71bff-3940-4cf0-9924-f313f1d89042",
    "papermill": {
     "duration": 0.053777,
     "end_time": "2021-11-07T17:27:37.093588",
     "exception": false,
     "start_time": "2021-11-07T17:27:37.039811",
     "status": "completed"
    },
    "tags": []
   },
   "outputs": [
    {
     "name": "stdout",
     "output_type": "stream",
     "text": [
      "[[1678   80]\n",
      " [ 746 1497]]\n"
     ]
    }
   ],
   "source": [
    "confusion = confusion_matrix(predictions_test,y_test)\n",
    "print(confusion)"
   ]
  },
  {
   "cell_type": "markdown",
   "id": "2f9698dd",
   "metadata": {
    "papermill": {
     "duration": 0.038861,
     "end_time": "2021-11-07T17:27:37.172489",
     "exception": false,
     "start_time": "2021-11-07T17:27:37.133628",
     "status": "completed"
    },
    "tags": []
   },
   "source": [
    "# Logistic Regression"
   ]
  },
  {
   "cell_type": "code",
   "execution_count": 33,
   "id": "aa967584",
   "metadata": {
    "execution": {
     "iopub.execute_input": "2021-11-07T17:27:37.255902Z",
     "iopub.status.busy": "2021-11-07T17:27:37.255144Z",
     "iopub.status.idle": "2021-11-07T17:27:38.941205Z",
     "shell.execute_reply": "2021-11-07T17:27:38.942335Z"
    },
    "id": "f7215ac4",
    "papermill": {
     "duration": 1.730795,
     "end_time": "2021-11-07T17:27:38.942585",
     "exception": false,
     "start_time": "2021-11-07T17:27:37.211790",
     "status": "completed"
    },
    "tags": []
   },
   "outputs": [
    {
     "data": {
      "text/plain": [
       "LogisticRegression(C=10, max_iter=1000000, multi_class='ovr', random_state=42)"
      ]
     },
     "execution_count": 33,
     "metadata": {},
     "output_type": "execute_result"
    }
   ],
   "source": [
    "model2 = LogisticRegression(C=10, random_state=42, solver='lbfgs', multi_class='ovr',max_iter=1000000)\n",
    "model2.fit(X_train, y_train)"
   ]
  },
  {
   "cell_type": "code",
   "execution_count": 34,
   "id": "2cd2359a",
   "metadata": {
    "execution": {
     "iopub.execute_input": "2021-11-07T17:27:39.086175Z",
     "iopub.status.busy": "2021-11-07T17:27:39.085355Z",
     "iopub.status.idle": "2021-11-07T17:27:39.112369Z",
     "shell.execute_reply": "2021-11-07T17:27:39.111944Z"
    },
    "id": "315286a9",
    "papermill": {
     "duration": 0.095959,
     "end_time": "2021-11-07T17:27:39.112481",
     "exception": false,
     "start_time": "2021-11-07T17:27:39.016522",
     "status": "completed"
    },
    "tags": []
   },
   "outputs": [],
   "source": [
    "predictions_test = model2.predict(X_test)\n",
    "predictions_train = model2.predict(X_train)\n",
    "temp = ['LogisticRegression']\n",
    "temp.append(accuracy_score(predictions_train,y_train))\n",
    "temp.append(recall_score(predictions_train,y_train))\n",
    "temp.append(f1_score(predictions_train,y_train))\n",
    "temp.append(precision_score(predictions_train,y_train))\n",
    "temp.append(accuracy_score(predictions_test,y_test))\n",
    "temp.append(recall_score(predictions_test,y_test))\n",
    "temp.append(f1_score(predictions_test,y_test))\n",
    "temp.append(precision_score(predictions_test,y_test))\n",
    "data.append(temp)"
   ]
  },
  {
   "cell_type": "code",
   "execution_count": 35,
   "id": "bb62a422",
   "metadata": {
    "execution": {
     "iopub.execute_input": "2021-11-07T17:27:39.197576Z",
     "iopub.status.busy": "2021-11-07T17:27:39.195441Z",
     "iopub.status.idle": "2021-11-07T17:27:39.205401Z",
     "shell.execute_reply": "2021-11-07T17:27:39.205801Z"
    },
    "id": "5c1d2f21",
    "papermill": {
     "duration": 0.05368,
     "end_time": "2021-11-07T17:27:39.205959",
     "exception": false,
     "start_time": "2021-11-07T17:27:39.152279",
     "status": "completed"
    },
    "tags": []
   },
   "outputs": [
    {
     "name": "stdout",
     "output_type": "stream",
     "text": [
      "[[1983  163]\n",
      " [ 441 1414]]\n"
     ]
    }
   ],
   "source": [
    "confusion = confusion_matrix(predictions_test,y_test)\n",
    "print(confusion)"
   ]
  },
  {
   "cell_type": "markdown",
   "id": "9434f44e",
   "metadata": {
    "papermill": {
     "duration": 0.040516,
     "end_time": "2021-11-07T17:27:39.286792",
     "exception": false,
     "start_time": "2021-11-07T17:27:39.246276",
     "status": "completed"
    },
    "tags": []
   },
   "source": [
    "# Naive Bayes"
   ]
  },
  {
   "cell_type": "code",
   "execution_count": 36,
   "id": "f8040ee2",
   "metadata": {
    "execution": {
     "iopub.execute_input": "2021-11-07T17:27:39.379642Z",
     "iopub.status.busy": "2021-11-07T17:27:39.378779Z",
     "iopub.status.idle": "2021-11-07T17:27:39.384409Z",
     "shell.execute_reply": "2021-11-07T17:27:39.384992Z"
    },
    "id": "e6ce5500",
    "papermill": {
     "duration": 0.057375,
     "end_time": "2021-11-07T17:27:39.385120",
     "exception": false,
     "start_time": "2021-11-07T17:27:39.327745",
     "status": "completed"
    },
    "tags": []
   },
   "outputs": [
    {
     "data": {
      "text/plain": [
       "MultinomialNB(alpha=0.5, fit_prior='True')"
      ]
     },
     "execution_count": 36,
     "metadata": {},
     "output_type": "execute_result"
    }
   ],
   "source": [
    "model3 = MultinomialNB(alpha = 0.5, fit_prior = 'True')\n",
    "model3.fit(X_train, y_train)"
   ]
  },
  {
   "cell_type": "code",
   "execution_count": 37,
   "id": "68359966",
   "metadata": {
    "execution": {
     "iopub.execute_input": "2021-11-07T17:27:39.472977Z",
     "iopub.status.busy": "2021-11-07T17:27:39.472173Z",
     "iopub.status.idle": "2021-11-07T17:27:39.499331Z",
     "shell.execute_reply": "2021-11-07T17:27:39.499798Z"
    },
    "id": "87a23fda",
    "papermill": {
     "duration": 0.073887,
     "end_time": "2021-11-07T17:27:39.499943",
     "exception": false,
     "start_time": "2021-11-07T17:27:39.426056",
     "status": "completed"
    },
    "tags": []
   },
   "outputs": [],
   "source": [
    "predictions_test = model3.predict(X_test)\n",
    "predictions_train = model3.predict(X_train)\n",
    "temp = ['MultinomialNB']\n",
    "temp.append(accuracy_score(predictions_train,y_train))\n",
    "temp.append(recall_score(predictions_train,y_train))\n",
    "temp.append(f1_score(predictions_train,y_train))\n",
    "temp.append(precision_score(predictions_train,y_train))\n",
    "temp.append(accuracy_score(predictions_test,y_test))\n",
    "temp.append(recall_score(predictions_test,y_test))\n",
    "temp.append(f1_score(predictions_test,y_test))\n",
    "temp.append(precision_score(predictions_test,y_test))\n",
    "data.append(temp)"
   ]
  },
  {
   "cell_type": "code",
   "execution_count": 38,
   "id": "3b779205",
   "metadata": {
    "execution": {
     "iopub.execute_input": "2021-11-07T17:27:39.591282Z",
     "iopub.status.busy": "2021-11-07T17:27:39.585560Z",
     "iopub.status.idle": "2021-11-07T17:27:39.595074Z",
     "shell.execute_reply": "2021-11-07T17:27:39.595683Z"
    },
    "id": "90aa5df8",
    "papermill": {
     "duration": 0.055063,
     "end_time": "2021-11-07T17:27:39.595856",
     "exception": false,
     "start_time": "2021-11-07T17:27:39.540793",
     "status": "completed"
    },
    "tags": []
   },
   "outputs": [
    {
     "name": "stdout",
     "output_type": "stream",
     "text": [
      "[[1986  370]\n",
      " [ 438 1207]]\n"
     ]
    }
   ],
   "source": [
    "confusion = confusion_matrix(predictions_test,y_test)\n",
    "print(confusion)"
   ]
  },
  {
   "cell_type": "markdown",
   "id": "e53ff461",
   "metadata": {
    "papermill": {
     "duration": 0.040913,
     "end_time": "2021-11-07T17:27:39.678996",
     "exception": false,
     "start_time": "2021-11-07T17:27:39.638083",
     "status": "completed"
    },
    "tags": []
   },
   "source": [
    "# Linear SVC"
   ]
  },
  {
   "cell_type": "code",
   "execution_count": 39,
   "id": "a7b6ac6d",
   "metadata": {
    "execution": {
     "iopub.execute_input": "2021-11-07T17:27:39.766364Z",
     "iopub.status.busy": "2021-11-07T17:27:39.765595Z",
     "iopub.status.idle": "2021-11-07T17:27:40.224222Z",
     "shell.execute_reply": "2021-11-07T17:27:40.223688Z"
    },
    "id": "0f220557",
    "papermill": {
     "duration": 0.504091,
     "end_time": "2021-11-07T17:27:40.224358",
     "exception": false,
     "start_time": "2021-11-07T17:27:39.720267",
     "status": "completed"
    },
    "tags": []
   },
   "outputs": [
    {
     "data": {
      "text/plain": [
       "LinearSVC(C=1, max_iter=1000000, random_state=42)"
      ]
     },
     "execution_count": 39,
     "metadata": {},
     "output_type": "execute_result"
    }
   ],
   "source": [
    "model4 = LinearSVC(C = 1, max_iter=1000000,random_state=42)\n",
    "model4.fit(X_train, y_train)"
   ]
  },
  {
   "cell_type": "code",
   "execution_count": 40,
   "id": "6f94047c",
   "metadata": {
    "execution": {
     "iopub.execute_input": "2021-11-07T17:27:40.316254Z",
     "iopub.status.busy": "2021-11-07T17:27:40.315314Z",
     "iopub.status.idle": "2021-11-07T17:27:40.343698Z",
     "shell.execute_reply": "2021-11-07T17:27:40.343234Z"
    },
    "id": "57f277ab",
    "papermill": {
     "duration": 0.077365,
     "end_time": "2021-11-07T17:27:40.343820",
     "exception": false,
     "start_time": "2021-11-07T17:27:40.266455",
     "status": "completed"
    },
    "tags": []
   },
   "outputs": [],
   "source": [
    "predictions_test = model4.predict(X_test)\n",
    "predictions_train = model4.predict(X_train)\n",
    "temp = ['LinearSVC']\n",
    "temp.append(accuracy_score(predictions_train,y_train))\n",
    "temp.append(recall_score(predictions_train,y_train))\n",
    "temp.append(f1_score(predictions_train,y_train))\n",
    "temp.append(precision_score(predictions_train,y_train))\n",
    "temp.append(accuracy_score(predictions_test,y_test))\n",
    "temp.append(recall_score(predictions_test,y_test))\n",
    "temp.append(f1_score(predictions_test,y_test))\n",
    "temp.append(precision_score(predictions_test,y_test))\n",
    "data.append(temp)"
   ]
  },
  {
   "cell_type": "code",
   "execution_count": 41,
   "id": "3ff7ae98",
   "metadata": {
    "execution": {
     "iopub.execute_input": "2021-11-07T17:27:40.510646Z",
     "iopub.status.busy": "2021-11-07T17:27:40.509388Z",
     "iopub.status.idle": "2021-11-07T17:27:40.518106Z",
     "shell.execute_reply": "2021-11-07T17:27:40.519350Z"
    },
    "id": "214eea79",
    "papermill": {
     "duration": 0.111601,
     "end_time": "2021-11-07T17:27:40.519552",
     "exception": false,
     "start_time": "2021-11-07T17:27:40.407951",
     "status": "completed"
    },
    "tags": []
   },
   "outputs": [
    {
     "name": "stdout",
     "output_type": "stream",
     "text": [
      "[[1967  162]\n",
      " [ 457 1415]]\n"
     ]
    }
   ],
   "source": [
    "confusion = confusion_matrix(predictions_test,y_test)\n",
    "print(confusion)"
   ]
  },
  {
   "cell_type": "markdown",
   "id": "c29e51aa",
   "metadata": {
    "papermill": {
     "duration": 0.077551,
     "end_time": "2021-11-07T17:27:40.690885",
     "exception": false,
     "start_time": "2021-11-07T17:27:40.613334",
     "status": "completed"
    },
    "tags": []
   },
   "source": [
    "# Summary"
   ]
  },
  {
   "cell_type": "code",
   "execution_count": 42,
   "id": "c61be225",
   "metadata": {
    "execution": {
     "iopub.execute_input": "2021-11-07T17:27:40.847419Z",
     "iopub.status.busy": "2021-11-07T17:27:40.846729Z",
     "iopub.status.idle": "2021-11-07T17:27:40.849439Z",
     "shell.execute_reply": "2021-11-07T17:27:40.849892Z"
    },
    "id": "10bab3d4",
    "papermill": {
     "duration": 0.083984,
     "end_time": "2021-11-07T17:27:40.850074",
     "exception": false,
     "start_time": "2021-11-07T17:27:40.766090",
     "status": "completed"
    },
    "tags": []
   },
   "outputs": [],
   "source": [
    "result = pd.DataFrame(data, columns = ['Algorithm','Accuracy Score : Train', 'Recall Score : Train','F1-Score :Train','Precision Score :Train','Accuracy Score : Test', 'Recall Score : Test','F1-Score : Test','Precision Score : Test'])\n",
    "result.reset_index(drop=True, inplace=True)"
   ]
  },
  {
   "cell_type": "code",
   "execution_count": 43,
   "id": "d7b3ec9d",
   "metadata": {
    "execution": {
     "iopub.execute_input": "2021-11-07T17:27:40.988054Z",
     "iopub.status.busy": "2021-11-07T17:27:40.986967Z",
     "iopub.status.idle": "2021-11-07T17:27:40.998922Z",
     "shell.execute_reply": "2021-11-07T17:27:40.998475Z"
    },
    "id": "5362f3b6",
    "papermill": {
     "duration": 0.077904,
     "end_time": "2021-11-07T17:27:40.999044",
     "exception": false,
     "start_time": "2021-11-07T17:27:40.921140",
     "status": "completed"
    },
    "tags": []
   },
   "outputs": [
    {
     "data": {
      "text/html": [
       "<div>\n",
       "<style scoped>\n",
       "    .dataframe tbody tr th:only-of-type {\n",
       "        vertical-align: middle;\n",
       "    }\n",
       "\n",
       "    .dataframe tbody tr th {\n",
       "        vertical-align: top;\n",
       "    }\n",
       "\n",
       "    .dataframe thead th {\n",
       "        text-align: right;\n",
       "    }\n",
       "</style>\n",
       "<table border=\"1\" class=\"dataframe\">\n",
       "  <thead>\n",
       "    <tr style=\"text-align: right;\">\n",
       "      <th></th>\n",
       "      <th>Algorithm</th>\n",
       "      <th>Accuracy Score : Train</th>\n",
       "      <th>Recall Score : Train</th>\n",
       "      <th>F1-Score :Train</th>\n",
       "      <th>Precision Score :Train</th>\n",
       "      <th>Accuracy Score : Test</th>\n",
       "      <th>Recall Score : Test</th>\n",
       "      <th>F1-Score : Test</th>\n",
       "      <th>Precision Score : Test</th>\n",
       "    </tr>\n",
       "  </thead>\n",
       "  <tbody>\n",
       "    <tr>\n",
       "      <th>0</th>\n",
       "      <td>KNeighborsClassifier</td>\n",
       "      <td>0.993625</td>\n",
       "      <td>0.989482</td>\n",
       "      <td>0.991853</td>\n",
       "      <td>0.994235</td>\n",
       "      <td>0.793552</td>\n",
       "      <td>0.667410</td>\n",
       "      <td>0.783770</td>\n",
       "      <td>0.949271</td>\n",
       "    </tr>\n",
       "    <tr>\n",
       "      <th>1</th>\n",
       "      <td>LogisticRegression</td>\n",
       "      <td>0.964187</td>\n",
       "      <td>0.956683</td>\n",
       "      <td>0.953994</td>\n",
       "      <td>0.951321</td>\n",
       "      <td>0.849038</td>\n",
       "      <td>0.762264</td>\n",
       "      <td>0.824009</td>\n",
       "      <td>0.896639</td>\n",
       "    </tr>\n",
       "    <tr>\n",
       "      <th>2</th>\n",
       "      <td>MultinomialNB</td>\n",
       "      <td>0.893938</td>\n",
       "      <td>0.873767</td>\n",
       "      <td>0.862357</td>\n",
       "      <td>0.851241</td>\n",
       "      <td>0.798050</td>\n",
       "      <td>0.733739</td>\n",
       "      <td>0.749224</td>\n",
       "      <td>0.765377</td>\n",
       "    </tr>\n",
       "    <tr>\n",
       "      <th>3</th>\n",
       "      <td>LinearSVC</td>\n",
       "      <td>0.963938</td>\n",
       "      <td>0.954750</td>\n",
       "      <td>0.953755</td>\n",
       "      <td>0.952762</td>\n",
       "      <td>0.845289</td>\n",
       "      <td>0.755876</td>\n",
       "      <td>0.820528</td>\n",
       "      <td>0.897273</td>\n",
       "    </tr>\n",
       "  </tbody>\n",
       "</table>\n",
       "</div>"
      ],
      "text/plain": [
       "              Algorithm  Accuracy Score : Train  Recall Score : Train  \\\n",
       "0  KNeighborsClassifier                0.993625              0.989482   \n",
       "1    LogisticRegression                0.964187              0.956683   \n",
       "2         MultinomialNB                0.893938              0.873767   \n",
       "3             LinearSVC                0.963938              0.954750   \n",
       "\n",
       "   F1-Score :Train  Precision Score :Train  Accuracy Score : Test  \\\n",
       "0         0.991853                0.994235               0.793552   \n",
       "1         0.953994                0.951321               0.849038   \n",
       "2         0.862357                0.851241               0.798050   \n",
       "3         0.953755                0.952762               0.845289   \n",
       "\n",
       "   Recall Score : Test  F1-Score : Test  Precision Score : Test  \n",
       "0             0.667410         0.783770                0.949271  \n",
       "1             0.762264         0.824009                0.896639  \n",
       "2             0.733739         0.749224                0.765377  \n",
       "3             0.755876         0.820528                0.897273  "
      ]
     },
     "execution_count": 43,
     "metadata": {},
     "output_type": "execute_result"
    }
   ],
   "source": [
    "result"
   ]
  },
  {
   "cell_type": "markdown",
   "id": "57e2e9c5",
   "metadata": {
    "papermill": {
     "duration": 0.043222,
     "end_time": "2021-11-07T17:27:41.086921",
     "exception": false,
     "start_time": "2021-11-07T17:27:41.043699",
     "status": "completed"
    },
    "tags": []
   },
   "source": [
    "# Saving models in .pkl file"
   ]
  },
  {
   "cell_type": "code",
   "execution_count": 44,
   "id": "39c50195",
   "metadata": {
    "execution": {
     "iopub.execute_input": "2021-11-07T17:27:41.176804Z",
     "iopub.status.busy": "2021-11-07T17:27:41.176046Z",
     "iopub.status.idle": "2021-11-07T17:27:41.178387Z",
     "shell.execute_reply": "2021-11-07T17:27:41.177981Z",
     "shell.execute_reply.started": "2021-11-01T13:20:19.618521Z"
    },
    "id": "p4rsfRVZdqXm",
    "papermill": {
     "duration": 0.048227,
     "end_time": "2021-11-07T17:27:41.178491",
     "exception": false,
     "start_time": "2021-11-07T17:27:41.130264",
     "status": "completed"
    },
    "tags": []
   },
   "outputs": [],
   "source": [
    "import pickle\n"
   ]
  },
  {
   "cell_type": "code",
   "execution_count": 45,
   "id": "d51d9687",
   "metadata": {
    "execution": {
     "iopub.execute_input": "2021-11-07T17:27:41.271365Z",
     "iopub.status.busy": "2021-11-07T17:27:41.270735Z",
     "iopub.status.idle": "2021-11-07T17:27:41.273719Z",
     "shell.execute_reply": "2021-11-07T17:27:41.273269Z",
     "shell.execute_reply.started": "2021-11-01T12:29:11.296352Z"
    },
    "papermill": {
     "duration": 0.052736,
     "end_time": "2021-11-07T17:27:41.273823",
     "exception": false,
     "start_time": "2021-11-07T17:27:41.221087",
     "status": "completed"
    },
    "tags": []
   },
   "outputs": [],
   "source": [
    "pickle_out = open(\"vectorizer.pkl\",\"wb\")\n",
    "pickle.dump(count_vector, pickle_out)\n",
    "pickle_out.close()"
   ]
  },
  {
   "cell_type": "code",
   "execution_count": 46,
   "id": "0b606817",
   "metadata": {
    "execution": {
     "iopub.execute_input": "2021-11-07T17:27:41.365312Z",
     "iopub.status.busy": "2021-11-07T17:27:41.364661Z",
     "iopub.status.idle": "2021-11-07T17:27:41.367736Z",
     "shell.execute_reply": "2021-11-07T17:27:41.367285Z"
    },
    "id": "4261b5d8",
    "papermill": {
     "duration": 0.05071,
     "end_time": "2021-11-07T17:27:41.367869",
     "exception": false,
     "start_time": "2021-11-07T17:27:41.317159",
     "status": "completed"
    },
    "tags": []
   },
   "outputs": [],
   "source": [
    "pickle_out = open(\"LinearSVC.pkl\",\"wb\")\n",
    "pickle.dump(model4, pickle_out)\n",
    "pickle_out.close()"
   ]
  },
  {
   "cell_type": "code",
   "execution_count": 47,
   "id": "0b174d87",
   "metadata": {
    "execution": {
     "iopub.execute_input": "2021-11-07T17:27:41.461682Z",
     "iopub.status.busy": "2021-11-07T17:27:41.460566Z",
     "iopub.status.idle": "2021-11-07T17:27:41.464317Z",
     "shell.execute_reply": "2021-11-07T17:27:41.463805Z"
    },
    "id": "a7559bb4",
    "papermill": {
     "duration": 0.051941,
     "end_time": "2021-11-07T17:27:41.464451",
     "exception": false,
     "start_time": "2021-11-07T17:27:41.412510",
     "status": "completed"
    },
    "tags": []
   },
   "outputs": [],
   "source": [
    "pickle_out = open(\"MultinomialNB.pkl\",\"wb\")\n",
    "pickle.dump(model3, pickle_out)\n",
    "pickle_out.close()"
   ]
  },
  {
   "cell_type": "code",
   "execution_count": 48,
   "id": "719b1d3d",
   "metadata": {
    "execution": {
     "iopub.execute_input": "2021-11-07T17:27:41.557552Z",
     "iopub.status.busy": "2021-11-07T17:27:41.556935Z",
     "iopub.status.idle": "2021-11-07T17:27:41.559571Z",
     "shell.execute_reply": "2021-11-07T17:27:41.560078Z"
    },
    "id": "TuI5hWEwZpef",
    "papermill": {
     "duration": 0.05115,
     "end_time": "2021-11-07T17:27:41.560204",
     "exception": false,
     "start_time": "2021-11-07T17:27:41.509054",
     "status": "completed"
    },
    "tags": []
   },
   "outputs": [],
   "source": [
    "pickle_out = open(\"LogisticRegression.pkl\",\"wb\")\n",
    "pickle.dump(model2, pickle_out)\n",
    "pickle_out.close()"
   ]
  },
  {
   "cell_type": "code",
   "execution_count": 49,
   "id": "c9965f34",
   "metadata": {
    "execution": {
     "iopub.execute_input": "2021-11-07T17:27:41.657429Z",
     "iopub.status.busy": "2021-11-07T17:27:41.656665Z",
     "iopub.status.idle": "2021-11-07T17:27:41.659095Z",
     "shell.execute_reply": "2021-11-07T17:27:41.658621Z"
    },
    "id": "pRIzmhCTZqRl",
    "papermill": {
     "duration": 0.053822,
     "end_time": "2021-11-07T17:27:41.659203",
     "exception": false,
     "start_time": "2021-11-07T17:27:41.605381",
     "status": "completed"
    },
    "tags": []
   },
   "outputs": [],
   "source": [
    "pickle_out = open(\"KNeighborsClassifier.pkl\",\"wb\")\n",
    "pickle.dump(model1, pickle_out)\n",
    "pickle_out.close()"
   ]
  },
  {
   "cell_type": "code",
   "execution_count": null,
   "id": "ed19b67e",
   "metadata": {
    "papermill": {
     "duration": 0.043308,
     "end_time": "2021-11-07T17:27:41.745733",
     "exception": false,
     "start_time": "2021-11-07T17:27:41.702425",
     "status": "completed"
    },
    "tags": []
   },
   "outputs": [],
   "source": []
  }
 ],
 "metadata": {
  "kernelspec": {
   "display_name": "Python 3",
   "language": "python",
   "name": "python3"
  },
  "language_info": {
   "codemirror_mode": {
    "name": "ipython",
    "version": 3
   },
   "file_extension": ".py",
   "mimetype": "text/x-python",
   "name": "python",
   "nbconvert_exporter": "python",
   "pygments_lexer": "ipython3",
   "version": "3.7.10"
  },
  "papermill": {
   "default_parameters": {},
   "duration": 342.721831,
   "end_time": "2021-11-07T17:27:42.498639",
   "environment_variables": {},
   "exception": null,
   "input_path": "__notebook__.ipynb",
   "output_path": "__notebook__.ipynb",
   "parameters": {},
   "start_time": "2021-11-07T17:21:59.776808",
   "version": "2.3.3"
  }
 },
 "nbformat": 4,
 "nbformat_minor": 5
}
