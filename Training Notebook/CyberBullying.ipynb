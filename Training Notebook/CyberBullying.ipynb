{
 "cells": [
  {
   "cell_type": "code",
   "execution_count": 1,
   "id": "e6641aaa",
   "metadata": {
    "execution": {
     "iopub.execute_input": "2022-07-01T11:09:02.078115Z",
     "iopub.status.busy": "2022-07-01T11:09:02.077001Z",
     "iopub.status.idle": "2022-07-01T11:09:04.283789Z",
     "shell.execute_reply": "2022-07-01T11:09:04.282411Z"
    },
    "id": "b068286a",
    "outputId": "81f8ff19-24e0-4e06-bd71-155e16949651",
    "papermill": {
     "duration": 2.228166,
     "end_time": "2022-07-01T11:09:04.287132",
     "exception": false,
     "start_time": "2022-07-01T11:09:02.058966",
     "status": "completed"
    },
    "tags": []
   },
   "outputs": [
    {
     "name": "stderr",
     "output_type": "stream",
     "text": [
      "/opt/conda/lib/python3.7/site-packages/ipykernel_launcher.py:3: FutureWarning: Passing a negative integer is deprecated in version 1.0 and will not be supported in future version. Instead, use None to not limit the column width.\n",
      "  This is separate from the ipykernel package so we can avoid doing imports until\n"
     ]
    }
   ],
   "source": [
    "import numpy as np\n",
    "import pandas as pd\n",
    "pd.set_option(\"display.max_colwidth\", -1)\n",
    "import matplotlib.pyplot as plt\n",
    "%matplotlib inline\n",
    "import nltk"
   ]
  },
  {
   "cell_type": "code",
   "execution_count": 2,
   "id": "fcf30b73",
   "metadata": {
    "execution": {
     "iopub.execute_input": "2022-07-01T11:09:04.319255Z",
     "iopub.status.busy": "2022-07-01T11:09:04.318802Z",
     "iopub.status.idle": "2022-07-01T11:09:05.280983Z",
     "shell.execute_reply": "2022-07-01T11:09:05.279479Z"
    },
    "papermill": {
     "duration": 0.981523,
     "end_time": "2022-07-01T11:09:05.284057",
     "exception": false,
     "start_time": "2022-07-01T11:09:04.302534",
     "status": "completed"
    },
    "tags": []
   },
   "outputs": [
    {
     "data": {
      "text/html": [
       "<div>\n",
       "<style scoped>\n",
       "    .dataframe tbody tr th:only-of-type {\n",
       "        vertical-align: middle;\n",
       "    }\n",
       "\n",
       "    .dataframe tbody tr th {\n",
       "        vertical-align: top;\n",
       "    }\n",
       "\n",
       "    .dataframe thead th {\n",
       "        text-align: right;\n",
       "    }\n",
       "</style>\n",
       "<table border=\"1\" class=\"dataframe\">\n",
       "  <thead>\n",
       "    <tr style=\"text-align: right;\">\n",
       "      <th></th>\n",
       "      <th>comments</th>\n",
       "      <th>tagging</th>\n",
       "    </tr>\n",
       "  </thead>\n",
       "  <tbody>\n",
       "    <tr>\n",
       "      <th>0</th>\n",
       "      <td>Get fucking real dude.</td>\n",
       "      <td>1</td>\n",
       "    </tr>\n",
       "    <tr>\n",
       "      <th>1</th>\n",
       "      <td>She is as dirty as they come  and that crook Rengel  the Dems are so fucking corrupt it's a joke. Make Republicans look like  ...</td>\n",
       "      <td>1</td>\n",
       "    </tr>\n",
       "    <tr>\n",
       "      <th>2</th>\n",
       "      <td>why did you fuck it up. I could do it all day too. Let's do it when you have an hour. Ping me later to sched writing a book here.</td>\n",
       "      <td>1</td>\n",
       "    </tr>\n",
       "    <tr>\n",
       "      <th>3</th>\n",
       "      <td>Dude they dont finish enclosing the fucking showers. I hate half assed jobs. Whats the reasononing behind it? Makes no sense.</td>\n",
       "      <td>1</td>\n",
       "    </tr>\n",
       "    <tr>\n",
       "      <th>4</th>\n",
       "      <td>WTF are you talking about Men? No men thats not a menage  that's just gay.</td>\n",
       "      <td>1</td>\n",
       "    </tr>\n",
       "  </tbody>\n",
       "</table>\n",
       "</div>"
      ],
      "text/plain": [
       "                                                                                                                             comments  \\\n",
       "0   Get fucking real dude.                                                                                                              \n",
       "1   She is as dirty as they come  and that crook Rengel  the Dems are so fucking corrupt it's a joke. Make Republicans look like  ...   \n",
       "2   why did you fuck it up. I could do it all day too. Let's do it when you have an hour. Ping me later to sched writing a book here.   \n",
       "3   Dude they dont finish enclosing the fucking showers. I hate half assed jobs. Whats the reasononing behind it? Makes no sense.       \n",
       "4   WTF are you talking about Men? No men thats not a menage  that's just gay.                                                          \n",
       "\n",
       "   tagging  \n",
       "0  1        \n",
       "1  1        \n",
       "2  1        \n",
       "3  1        \n",
       "4  1        "
      ]
     },
     "execution_count": 2,
     "metadata": {},
     "output_type": "execute_result"
    }
   ],
   "source": [
    "url = 'https://raw.githubusercontent.com/adwait1291/Cyber-Bullying-Detection-Using-ML-Algorithims/main/Dataset/Suspicious%20Communication%20on%20Social%20Platforms.csv'\n",
    "df = pd.read_csv(url)\n",
    "df.head()"
   ]
  },
  {
   "cell_type": "code",
   "execution_count": 3,
   "id": "bca70c0f",
   "metadata": {
    "execution": {
     "iopub.execute_input": "2022-07-01T11:09:05.317001Z",
     "iopub.status.busy": "2022-07-01T11:09:05.316519Z",
     "iopub.status.idle": "2022-07-01T11:09:05.326191Z",
     "shell.execute_reply": "2022-07-01T11:09:05.324514Z"
    },
    "papermill": {
     "duration": 0.029731,
     "end_time": "2022-07-01T11:09:05.329123",
     "exception": false,
     "start_time": "2022-07-01T11:09:05.299392",
     "status": "completed"
    },
    "tags": []
   },
   "outputs": [
    {
     "data": {
      "text/plain": [
       "(20001, 2)"
      ]
     },
     "execution_count": 3,
     "metadata": {},
     "output_type": "execute_result"
    }
   ],
   "source": [
    "df.shape"
   ]
  },
  {
   "cell_type": "code",
   "execution_count": 4,
   "id": "17d86fa4",
   "metadata": {
    "execution": {
     "iopub.execute_input": "2022-07-01T11:09:05.363818Z",
     "iopub.status.busy": "2022-07-01T11:09:05.363335Z",
     "iopub.status.idle": "2022-07-01T11:09:05.397374Z",
     "shell.execute_reply": "2022-07-01T11:09:05.395629Z"
    },
    "id": "5966c269",
    "outputId": "eb1bc894-6b23-450a-a1ef-0e432c4140ce",
    "papermill": {
     "duration": 0.053225,
     "end_time": "2022-07-01T11:09:05.399869",
     "exception": false,
     "start_time": "2022-07-01T11:09:05.346644",
     "status": "completed"
    },
    "tags": []
   },
   "outputs": [
    {
     "name": "stdout",
     "output_type": "stream",
     "text": [
      "<class 'pandas.core.frame.DataFrame'>\n",
      "RangeIndex: 20001 entries, 0 to 20000\n",
      "Data columns (total 2 columns):\n",
      " #   Column    Non-Null Count  Dtype \n",
      "---  ------    --------------  ----- \n",
      " 0   comments  20001 non-null  object\n",
      " 1   tagging   20001 non-null  int64 \n",
      "dtypes: int64(1), object(1)\n",
      "memory usage: 312.6+ KB\n"
     ]
    }
   ],
   "source": [
    "df.info()"
   ]
  },
  {
   "cell_type": "markdown",
   "id": "76fa6e11",
   "metadata": {
    "papermill": {
     "duration": 0.014619,
     "end_time": "2022-07-01T11:09:05.429185",
     "exception": false,
     "start_time": "2022-07-01T11:09:05.414566",
     "status": "completed"
    },
    "tags": []
   },
   "source": [
    "### Null Count = 0"
   ]
  },
  {
   "cell_type": "code",
   "execution_count": 5,
   "id": "5c1ee239",
   "metadata": {
    "execution": {
     "iopub.execute_input": "2022-07-01T11:09:05.461679Z",
     "iopub.status.busy": "2022-07-01T11:09:05.461148Z",
     "iopub.status.idle": "2022-07-01T11:09:05.715250Z",
     "shell.execute_reply": "2022-07-01T11:09:05.713353Z"
    },
    "papermill": {
     "duration": 0.274343,
     "end_time": "2022-07-01T11:09:05.718349",
     "exception": false,
     "start_time": "2022-07-01T11:09:05.444006",
     "status": "completed"
    },
    "tags": []
   },
   "outputs": [
    {
     "data": {
      "text/plain": [
       "<AxesSubplot:title={'center':'Ratio of observations'}>"
      ]
     },
     "execution_count": 5,
     "metadata": {},
     "output_type": "execute_result"
    },
    {
     "data": {
      "image/png": "[encoded data removed]",
      "text/plain": [
       "<Figure size 432x288 with 1 Axes>"
      ]
     },
     "metadata": {
      "needs_background": "light"
     },
     "output_type": "display_data"
    }
   ],
   "source": [
    "df['tagging'].value_counts(normalize=True).plot(kind='bar', title='Ratio of observations')"
   ]
  },
  {
   "cell_type": "markdown",
   "id": "02557d90",
   "metadata": {
    "papermill": {
     "duration": 0.01533,
     "end_time": "2022-07-01T11:09:05.751524",
     "exception": false,
     "start_time": "2022-07-01T11:09:05.736194",
     "status": "completed"
    },
    "tags": []
   },
   "source": [
    "# Preprocessing"
   ]
  },
  {
   "cell_type": "code",
   "execution_count": 6,
   "id": "5989056c",
   "metadata": {
    "execution": {
     "iopub.execute_input": "2022-07-01T11:09:05.784913Z",
     "iopub.status.busy": "2022-07-01T11:09:05.784268Z",
     "iopub.status.idle": "2022-07-01T11:09:05.792149Z",
     "shell.execute_reply": "2022-07-01T11:09:05.791134Z"
    },
    "id": "cd174566",
    "papermill": {
     "duration": 0.028445,
     "end_time": "2022-07-01T11:09:05.795253",
     "exception": false,
     "start_time": "2022-07-01T11:09:05.766808",
     "status": "completed"
    },
    "tags": []
   },
   "outputs": [],
   "source": [
    "#Function to tokenize the text and remove punctuations\n",
    "import string\n",
    "def tokenize_remove_punctuations(text):\n",
    "    clean_text = []\n",
    "    text = text.split(\" \")\n",
    "    for word in text:\n",
    "        word = list(word)\n",
    "        new_word = []\n",
    "        for c in word:\n",
    "            if c not in string.punctuation:\n",
    "                new_word.append(c)\n",
    "        word = \"\".join(new_word)\n",
    "        if len(word)>0:\n",
    "            clean_text.append(word)\n",
    "    return clean_text"
   ]
  },
  {
   "cell_type": "code",
   "execution_count": 7,
   "id": "ccb0ec32",
   "metadata": {
    "execution": {
     "iopub.execute_input": "2022-07-01T11:09:05.829391Z",
     "iopub.status.busy": "2022-07-01T11:09:05.828594Z",
     "iopub.status.idle": "2022-07-01T11:09:05.834515Z",
     "shell.execute_reply": "2022-07-01T11:09:05.833366Z"
    },
    "id": "b8d8a2b8",
    "outputId": "943e5346-cf7b-44ba-fa0a-fa0af213ada1",
    "papermill": {
     "duration": 0.025781,
     "end_time": "2022-07-01T11:09:05.836982",
     "exception": false,
     "start_time": "2022-07-01T11:09:05.811201",
     "status": "completed"
    },
    "tags": []
   },
   "outputs": [
    {
     "name": "stdout",
     "output_type": "stream",
     "text": [
      "['hello', 'anyone', 'reading', 'wt', 'is', 'the', 'name', 'of', 'am', 'in', 'that', 'this']\n"
     ]
    }
   ],
   "source": [
    "trial_text = \"hello @anyone reading? wt is the name of am in that this  ??!@\"\n",
    "trial_text = tokenize_remove_punctuations(trial_text)\n",
    "print(trial_text)"
   ]
  },
  {
   "cell_type": "code",
   "execution_count": 8,
   "id": "afbb22f9",
   "metadata": {
    "execution": {
     "iopub.execute_input": "2022-07-01T11:09:05.870020Z",
     "iopub.status.busy": "2022-07-01T11:09:05.869564Z",
     "iopub.status.idle": "2022-07-01T11:09:05.884339Z",
     "shell.execute_reply": "2022-07-01T11:09:05.882724Z"
    },
    "id": "8e7a9345",
    "outputId": "c3d67bb1-8341-4614-e84b-b2d4ef5d3da3",
    "papermill": {
     "duration": 0.034889,
     "end_time": "2022-07-01T11:09:05.887512",
     "exception": false,
     "start_time": "2022-07-01T11:09:05.852623",
     "status": "completed"
    },
    "tags": []
   },
   "outputs": [],
   "source": [
    "#Function to remove english stopwords\n",
    "stopwords = nltk.corpus.stopwords.words('english')\n",
    "def remove_stopwords(text):\n",
    "    clean_text = []\n",
    "    for word in text:\n",
    "        if word not in stopwords:\n",
    "            clean_text.append(word)\n",
    "    return clean_text"
   ]
  },
  {
   "cell_type": "code",
   "execution_count": 9,
   "id": "0bc875dc",
   "metadata": {
    "execution": {
     "iopub.execute_input": "2022-07-01T11:09:05.920226Z",
     "iopub.status.busy": "2022-07-01T11:09:05.919789Z",
     "iopub.status.idle": "2022-07-01T11:09:05.925782Z",
     "shell.execute_reply": "2022-07-01T11:09:05.924664Z"
    },
    "id": "02627d63",
    "outputId": "eae13a40-c58c-49fa-e329-37d3aec3d2af",
    "papermill": {
     "duration": 0.02554,
     "end_time": "2022-07-01T11:09:05.928265",
     "exception": false,
     "start_time": "2022-07-01T11:09:05.902725",
     "status": "completed"
    },
    "tags": []
   },
   "outputs": [
    {
     "name": "stdout",
     "output_type": "stream",
     "text": [
      "['hello', 'anyone', 'reading', 'wt', 'name']\n"
     ]
    }
   ],
   "source": [
    "trial_text = remove_stopwords(trial_text)\n",
    "print(trial_text)"
   ]
  },
  {
   "cell_type": "code",
   "execution_count": 10,
   "id": "0b032f32",
   "metadata": {
    "execution": {
     "iopub.execute_input": "2022-07-01T11:09:05.960816Z",
     "iopub.status.busy": "2022-07-01T11:09:05.960418Z",
     "iopub.status.idle": "2022-07-01T11:09:05.966628Z",
     "shell.execute_reply": "2022-07-01T11:09:05.964923Z"
    },
    "id": "54b6521c",
    "papermill": {
     "duration": 0.026004,
     "end_time": "2022-07-01T11:09:05.969821",
     "exception": false,
     "start_time": "2022-07-01T11:09:05.943817",
     "status": "completed"
    },
    "tags": []
   },
   "outputs": [],
   "source": [
    "#Part Of Speech Tagging\n",
    "def pos_tagging(text):\n",
    "    tagged = nltk.pos_tag(text)\n",
    "    return tagged    "
   ]
  },
  {
   "cell_type": "code",
   "execution_count": 11,
   "id": "d0dd1700",
   "metadata": {
    "execution": {
     "iopub.execute_input": "2022-07-01T11:09:06.009957Z",
     "iopub.status.busy": "2022-07-01T11:09:06.007177Z",
     "iopub.status.idle": "2022-07-01T11:09:06.182849Z",
     "shell.execute_reply": "2022-07-01T11:09:06.181832Z"
    },
    "papermill": {
     "duration": 0.198759,
     "end_time": "2022-07-01T11:09:06.185286",
     "exception": false,
     "start_time": "2022-07-01T11:09:05.986527",
     "status": "completed"
    },
    "tags": []
   },
   "outputs": [
    {
     "name": "stdout",
     "output_type": "stream",
     "text": [
      "[('hello', 'NN'), ('anyone', 'NN'), ('reading', 'VBG'), ('wt', 'NNS'), ('name', 'NN')]\n"
     ]
    }
   ],
   "source": [
    "pos_tag = pos_tagging(trial_text)\n",
    "print(pos_tag)"
   ]
  },
  {
   "cell_type": "code",
   "execution_count": 12,
   "id": "ce9123d0",
   "metadata": {
    "execution": {
     "iopub.execute_input": "2022-07-01T11:09:06.219114Z",
     "iopub.status.busy": "2022-07-01T11:09:06.218493Z",
     "iopub.status.idle": "2022-07-01T11:09:06.225111Z",
     "shell.execute_reply": "2022-07-01T11:09:06.224128Z"
    },
    "id": "0dc9b7a0",
    "papermill": {
     "duration": 0.027009,
     "end_time": "2022-07-01T11:09:06.228304",
     "exception": false,
     "start_time": "2022-07-01T11:09:06.201295",
     "status": "completed"
    },
    "tags": []
   },
   "outputs": [],
   "source": [
    "#Function to get wordnet tagging for POS\n",
    "from nltk.corpus import wordnet\n",
    "def get_wordnet(pos_tag):\n",
    "    if pos_tag.startswith('J'):\n",
    "        return wordnet.ADJ\n",
    "    elif pos_tag.startswith('V'):\n",
    "        return wordnet.VERB\n",
    "    elif pos_tag.startswith('N'):\n",
    "        return wordnet.NOUN\n",
    "    elif pos_tag.startswith('R'):\n",
    "        return wordnet.ADV\n",
    "    else:\n",
    "        return wordnet.NOUN"
   ]
  },
  {
   "cell_type": "code",
   "execution_count": 13,
   "id": "3e01d62b",
   "metadata": {
    "execution": {
     "iopub.execute_input": "2022-07-01T11:09:06.263540Z",
     "iopub.status.busy": "2022-07-01T11:09:06.262149Z",
     "iopub.status.idle": "2022-07-01T11:09:06.270972Z",
     "shell.execute_reply": "2022-07-01T11:09:06.269260Z"
    },
    "papermill": {
     "duration": 0.028988,
     "end_time": "2022-07-01T11:09:06.274001",
     "exception": false,
     "start_time": "2022-07-01T11:09:06.245013",
     "status": "completed"
    },
    "tags": []
   },
   "outputs": [],
   "source": [
    "#Function to lemmatize words\n",
    "from nltk.stem import WordNetLemmatizer\n",
    "def lemmatize(pos_tags):\n",
    "    lemmatized_text = []\n",
    "    for t in pos_tags:\n",
    "        word = WordNetLemmatizer().lemmatize(t[0],get_wordnet(t[1]))\n",
    "        lemmatized_text.append(word)\n",
    "    return lemmatized_text\n",
    "    "
   ]
  },
  {
   "cell_type": "code",
   "execution_count": 14,
   "id": "99c97543",
   "metadata": {
    "execution": {
     "iopub.execute_input": "2022-07-01T11:09:06.309610Z",
     "iopub.status.busy": "2022-07-01T11:09:06.308560Z",
     "iopub.status.idle": "2022-07-01T11:09:06.317156Z",
     "shell.execute_reply": "2022-07-01T11:09:06.316087Z"
    },
    "id": "dab1ca50",
    "papermill": {
     "duration": 0.030247,
     "end_time": "2022-07-01T11:09:06.319545",
     "exception": false,
     "start_time": "2022-07-01T11:09:06.289298",
     "status": "completed"
    },
    "tags": []
   },
   "outputs": [],
   "source": [
    "def clean_text(text):\n",
    "    text = str(text)\n",
    "    #Converting text to lower-case\n",
    "    text = text.lower()\n",
    "    #Tokenize and remove punctuations from the text\n",
    "    text = tokenize_remove_punctuations(text)\n",
    "    #Remove words containing numericals\n",
    "    text = [word for word in text if not any(c.isdigit() for c in word)]\n",
    "    #Remove stopwords\n",
    "    text = remove_stopwords(text)\n",
    "    #Remove empty tokens\n",
    "    text = [ t for t in text if len(t) > 0]\n",
    "    #POS tagging\n",
    "    pos_tags = pos_tagging(text)\n",
    "    #Lemmatize text\n",
    "    text = lemmatize(pos_tags)\n",
    "    #Remove words with only one letter\n",
    "    text = [ t for t in text if len(t)>1]\n",
    "    #Join all words\n",
    "    text = \" \".join(text)\n",
    "    return text"
   ]
  },
  {
   "cell_type": "code",
   "execution_count": 15,
   "id": "6e42d934",
   "metadata": {
    "execution": {
     "iopub.execute_input": "2022-07-01T11:09:06.353246Z",
     "iopub.status.busy": "2022-07-01T11:09:06.352507Z",
     "iopub.status.idle": "2022-07-01T11:09:08.816826Z",
     "shell.execute_reply": "2022-07-01T11:09:08.814984Z"
    },
    "papermill": {
     "duration": 2.484656,
     "end_time": "2022-07-01T11:09:08.819697",
     "exception": false,
     "start_time": "2022-07-01T11:09:06.335041",
     "status": "completed"
    },
    "tags": []
   },
   "outputs": [
    {
     "name": "stdout",
     "output_type": "stream",
     "text": [
      "name cat\n"
     ]
    }
   ],
   "source": [
    "print(clean_text(\"What is y0ur names? THis is a cat!! 12?\"))"
   ]
  },
  {
   "cell_type": "code",
   "execution_count": 16,
   "id": "37915436",
   "metadata": {
    "execution": {
     "iopub.execute_input": "2022-07-01T11:09:08.855162Z",
     "iopub.status.busy": "2022-07-01T11:09:08.854483Z",
     "iopub.status.idle": "2022-07-01T11:09:08.860670Z",
     "shell.execute_reply": "2022-07-01T11:09:08.859733Z"
    },
    "papermill": {
     "duration": 0.02724,
     "end_time": "2022-07-01T11:09:08.862971",
     "exception": false,
     "start_time": "2022-07-01T11:09:08.835731",
     "status": "completed"
    },
    "tags": []
   },
   "outputs": [
    {
     "name": "stdout",
     "output_type": "stream",
     "text": [
      "go zoo\n"
     ]
    }
   ],
   "source": [
    "print(clean_text(\"Are you going to zoo?\"))"
   ]
  },
  {
   "cell_type": "markdown",
   "id": "d1aa8c4f",
   "metadata": {
    "papermill": {
     "duration": 0.015294,
     "end_time": "2022-07-01T11:09:08.894109",
     "exception": false,
     "start_time": "2022-07-01T11:09:08.878815",
     "status": "completed"
    },
    "tags": []
   },
   "source": [
    "### Getting preprocessed comments"
   ]
  },
  {
   "cell_type": "code",
   "execution_count": 17,
   "id": "de900277",
   "metadata": {
    "execution": {
     "iopub.execute_input": "2022-07-01T11:09:08.927401Z",
     "iopub.status.busy": "2022-07-01T11:09:08.926671Z",
     "iopub.status.idle": "2022-07-01T11:09:27.056483Z",
     "shell.execute_reply": "2022-07-01T11:09:27.054969Z"
    },
    "id": "c7d12c9b",
    "papermill": {
     "duration": 18.150746,
     "end_time": "2022-07-01T11:09:27.060121",
     "exception": false,
     "start_time": "2022-07-01T11:09:08.909375",
     "status": "completed"
    },
    "tags": []
   },
   "outputs": [],
   "source": [
    "df['Processed_Comment'] = df['comments'].map(clean_text)"
   ]
  },
  {
   "cell_type": "code",
   "execution_count": 18,
   "id": "bbe3bc3c",
   "metadata": {
    "execution": {
     "iopub.execute_input": "2022-07-01T11:09:27.096178Z",
     "iopub.status.busy": "2022-07-01T11:09:27.095016Z",
     "iopub.status.idle": "2022-07-01T11:09:27.108057Z",
     "shell.execute_reply": "2022-07-01T11:09:27.106764Z"
    },
    "id": "86547deb",
    "papermill": {
     "duration": 0.034538,
     "end_time": "2022-07-01T11:09:27.110920",
     "exception": false,
     "start_time": "2022-07-01T11:09:27.076382",
     "status": "completed"
    },
    "tags": []
   },
   "outputs": [],
   "source": [
    "#Splitting dataset for training and testing(80:20)\n",
    "from sklearn.model_selection import train_test_split\n",
    "X_train, X_test, y_train, y_test = train_test_split(df['Processed_Comment'], \n",
    "                                                    df['tagging'], \n",
    "                                                    random_state=42,test_size=0.20)\n"
   ]
  },
  {
   "cell_type": "code",
   "execution_count": 19,
   "id": "32c97120",
   "metadata": {
    "execution": {
     "iopub.execute_input": "2022-07-01T11:09:27.144967Z",
     "iopub.status.busy": "2022-07-01T11:09:27.143750Z",
     "iopub.status.idle": "2022-07-01T11:09:27.456200Z",
     "shell.execute_reply": "2022-07-01T11:09:27.454679Z"
    },
    "id": "d2003ba5",
    "papermill": {
     "duration": 0.332553,
     "end_time": "2022-07-01T11:09:27.459054",
     "exception": false,
     "start_time": "2022-07-01T11:09:27.126501",
     "status": "completed"
    },
    "tags": []
   },
   "outputs": [],
   "source": [
    "#Using CountVectorizer to get feature vectors\n",
    "from sklearn.feature_extraction.text import CountVectorizer\n",
    "count_vector = CountVectorizer()\n",
    "X_train = count_vector.fit_transform(X_train)\n",
    "X_test = count_vector.transform(X_test)"
   ]
  },
  {
   "cell_type": "code",
   "execution_count": 20,
   "id": "5ccd9df0",
   "metadata": {
    "execution": {
     "iopub.execute_input": "2022-07-01T11:09:27.491202Z",
     "iopub.status.busy": "2022-07-01T11:09:27.490802Z",
     "iopub.status.idle": "2022-07-01T11:09:27.499239Z",
     "shell.execute_reply": "2022-07-01T11:09:27.497640Z"
    },
    "id": "c3044cde",
    "outputId": "21d71344-621a-4fa5-efaf-f696152289d7",
    "papermill": {
     "duration": 0.027646,
     "end_time": "2022-07-01T11:09:27.501709",
     "exception": false,
     "start_time": "2022-07-01T11:09:27.474063",
     "status": "completed"
    },
    "tags": []
   },
   "outputs": [
    {
     "data": {
      "text/plain": [
       "13816"
      ]
     },
     "execution_count": 20,
     "metadata": {},
     "output_type": "execute_result"
    }
   ],
   "source": [
    "len(count_vector.vocabulary_)"
   ]
  },
  {
   "cell_type": "code",
   "execution_count": 21,
   "id": "113a9b21",
   "metadata": {
    "execution": {
     "iopub.execute_input": "2022-07-01T11:09:27.535772Z",
     "iopub.status.busy": "2022-07-01T11:09:27.534938Z",
     "iopub.status.idle": "2022-07-01T11:09:27.541018Z",
     "shell.execute_reply": "2022-07-01T11:09:27.539702Z"
    },
    "id": "b392ac95",
    "papermill": {
     "duration": 0.026767,
     "end_time": "2022-07-01T11:09:27.543605",
     "exception": false,
     "start_time": "2022-07-01T11:09:27.516838",
     "status": "completed"
    },
    "tags": []
   },
   "outputs": [],
   "source": [
    "from sklearn.metrics import f1_score, accuracy_score, precision_score, recall_score\n",
    "from sklearn.metrics import confusion_matrix"
   ]
  },
  {
   "cell_type": "code",
   "execution_count": 22,
   "id": "246e50e1",
   "metadata": {
    "execution": {
     "iopub.execute_input": "2022-07-01T11:09:27.579305Z",
     "iopub.status.busy": "2022-07-01T11:09:27.577813Z",
     "iopub.status.idle": "2022-07-01T11:09:27.654683Z",
     "shell.execute_reply": "2022-07-01T11:09:27.653056Z"
    },
    "id": "U8_ssXPBAYrO",
    "papermill": {
     "duration": 0.09719,
     "end_time": "2022-07-01T11:09:27.657485",
     "exception": false,
     "start_time": "2022-07-01T11:09:27.560295",
     "status": "completed"
    },
    "tags": []
   },
   "outputs": [],
   "source": [
    "from sklearn.neighbors import KNeighborsClassifier  \n",
    "from sklearn.linear_model import LogisticRegression\n",
    "from sklearn.naive_bayes import MultinomialNB\n",
    "from sklearn.svm import LinearSVC\n",
    "from sklearn.model_selection import GridSearchCV"
   ]
  },
  {
   "cell_type": "markdown",
   "id": "2ef614d8",
   "metadata": {
    "papermill": {
     "duration": 0.017543,
     "end_time": "2022-07-01T11:09:27.692309",
     "exception": false,
     "start_time": "2022-07-01T11:09:27.674766",
     "status": "completed"
    },
    "tags": []
   },
   "source": [
    "# Using GridSearchCV to find best parameters"
   ]
  },
  {
   "cell_type": "code",
   "execution_count": 23,
   "id": "4ef8443b",
   "metadata": {
    "execution": {
     "iopub.execute_input": "2022-07-01T11:09:27.729888Z",
     "iopub.status.busy": "2022-07-01T11:09:27.729361Z",
     "iopub.status.idle": "2022-07-01T11:09:27.741139Z",
     "shell.execute_reply": "2022-07-01T11:09:27.739318Z"
    },
    "id": "ylxmP5K8AQwO",
    "papermill": {
     "duration": 0.035691,
     "end_time": "2022-07-01T11:09:27.743983",
     "exception": false,
     "start_time": "2022-07-01T11:09:27.708292",
     "status": "completed"
    },
    "tags": []
   },
   "outputs": [],
   "source": [
    "model_params = {\n",
    "    'LinearSVC': {\n",
    "        'model': LinearSVC(max_iter=1000000,random_state=42),\n",
    "        'params' : {\n",
    "            'C': [0.1,1,5,10,20],\n",
    "        }  \n",
    "    },\n",
    "    'MultinomialNB': {\n",
    "        'model': MultinomialNB(),\n",
    "        'params' : {\n",
    "            'alpha': np.linspace(0.5, 1.5, 6),\n",
    "            'fit_prior': [True, False],\n",
    "        }\n",
    "    },\n",
    "    'logistic_regression' : {\n",
    "        'model': LogisticRegression(random_state=42, multi_class='ovr',max_iter=1000000),\n",
    "        'params': {\n",
    "            'C': [1,5,10],\n",
    "            'solver': ['newton-cg', 'lbfgs', 'liblinear'],\n",
    "        }\n",
    "    },\n",
    "    'KNeighborsClassifier': {\n",
    "        'model': KNeighborsClassifier(p=2 ),\n",
    "        'params' : {\n",
    "            'n_neighbors': [5,9,11,23],\n",
    "              'weights' : ['uniform', 'distance'],\n",
    "              'metric' : ['euclidean', 'manhattan', 'minkowski'],\n",
    "        }\n",
    "    }\n",
    "}"
   ]
  },
  {
   "cell_type": "code",
   "execution_count": 24,
   "id": "a00b5353",
   "metadata": {
    "execution": {
     "iopub.execute_input": "2022-07-01T11:09:27.781764Z",
     "iopub.status.busy": "2022-07-01T11:09:27.781264Z",
     "iopub.status.idle": "2022-07-01T11:14:24.088421Z",
     "shell.execute_reply": "2022-07-01T11:14:24.086968Z"
    },
    "id": "kgVpKki-A9Ck",
    "papermill": {
     "duration": 296.344421,
     "end_time": "2022-07-01T11:14:24.106861",
     "exception": false,
     "start_time": "2022-07-01T11:09:27.762440",
     "status": "completed"
    },
    "tags": []
   },
   "outputs": [
    {
     "data": {
      "text/html": [
       "<div>\n",
       "<style scoped>\n",
       "    .dataframe tbody tr th:only-of-type {\n",
       "        vertical-align: middle;\n",
       "    }\n",
       "\n",
       "    .dataframe tbody tr th {\n",
       "        vertical-align: top;\n",
       "    }\n",
       "\n",
       "    .dataframe thead th {\n",
       "        text-align: right;\n",
       "    }\n",
       "</style>\n",
       "<table border=\"1\" class=\"dataframe\">\n",
       "  <thead>\n",
       "    <tr style=\"text-align: right;\">\n",
       "      <th></th>\n",
       "      <th>model</th>\n",
       "      <th>best_score</th>\n",
       "      <th>best_params</th>\n",
       "    </tr>\n",
       "  </thead>\n",
       "  <tbody>\n",
       "    <tr>\n",
       "      <th>0</th>\n",
       "      <td>LinearSVC</td>\n",
       "      <td>0.830562</td>\n",
       "      <td>{'C': 1}</td>\n",
       "    </tr>\n",
       "    <tr>\n",
       "      <th>1</th>\n",
       "      <td>MultinomialNB</td>\n",
       "      <td>0.765375</td>\n",
       "      <td>{'alpha': 0.5, 'fit_prior': True}</td>\n",
       "    </tr>\n",
       "    <tr>\n",
       "      <th>2</th>\n",
       "      <td>logistic_regression</td>\n",
       "      <td>0.832188</td>\n",
       "      <td>{'C': 10, 'solver': 'newton-cg'}</td>\n",
       "    </tr>\n",
       "    <tr>\n",
       "      <th>3</th>\n",
       "      <td>KNeighborsClassifier</td>\n",
       "      <td>0.782563</td>\n",
       "      <td>{'metric': 'euclidean', 'n_neighbors': 23, 'weights': 'distance'}</td>\n",
       "    </tr>\n",
       "  </tbody>\n",
       "</table>\n",
       "</div>"
      ],
      "text/plain": [
       "                  model  best_score  \\\n",
       "0  LinearSVC             0.830562     \n",
       "1  MultinomialNB         0.765375     \n",
       "2  logistic_regression   0.832188     \n",
       "3  KNeighborsClassifier  0.782563     \n",
       "\n",
       "                                                         best_params  \n",
       "0  {'C': 1}                                                           \n",
       "1  {'alpha': 0.5, 'fit_prior': True}                                  \n",
       "2  {'C': 10, 'solver': 'newton-cg'}                                   \n",
       "3  {'metric': 'euclidean', 'n_neighbors': 23, 'weights': 'distance'}  "
      ]
     },
     "execution_count": 24,
     "metadata": {},
     "output_type": "execute_result"
    }
   ],
   "source": [
    "scores = []\n",
    "\n",
    "for model_name, mp in model_params.items():\n",
    "    clf =  GridSearchCV(mp['model'], mp['params'], cv=5, return_train_score=False)\n",
    "    clf.fit(X_train, y_train)\n",
    "    scores.append({\n",
    "        'model': model_name,\n",
    "        'best_score': clf.best_score_,\n",
    "        'best_params': clf.best_params_\n",
    "    })\n",
    "    \n",
    "params = pd.DataFrame(scores,columns=['model','best_score','best_params'])\n",
    "params"
   ]
  },
  {
   "cell_type": "code",
   "execution_count": 25,
   "id": "13c8f287",
   "metadata": {
    "execution": {
     "iopub.execute_input": "2022-07-01T11:14:24.141948Z",
     "iopub.status.busy": "2022-07-01T11:14:24.141415Z",
     "iopub.status.idle": "2022-07-01T11:14:24.148135Z",
     "shell.execute_reply": "2022-07-01T11:14:24.146322Z"
    },
    "papermill": {
     "duration": 0.028158,
     "end_time": "2022-07-01T11:14:24.151167",
     "exception": false,
     "start_time": "2022-07-01T11:14:24.123009",
     "status": "completed"
    },
    "tags": []
   },
   "outputs": [],
   "source": [
    "results =[]"
   ]
  },
  {
   "cell_type": "markdown",
   "id": "3d2b18f5",
   "metadata": {
    "papermill": {
     "duration": 0.016574,
     "end_time": "2022-07-01T11:14:24.184095",
     "exception": false,
     "start_time": "2022-07-01T11:14:24.167521",
     "status": "completed"
    },
    "tags": []
   },
   "source": [
    "# KNN"
   ]
  },
  {
   "cell_type": "code",
   "execution_count": 26,
   "id": "aa9f559c",
   "metadata": {
    "execution": {
     "iopub.execute_input": "2022-07-01T11:14:24.220103Z",
     "iopub.status.busy": "2022-07-01T11:14:24.219618Z",
     "iopub.status.idle": "2022-07-01T11:14:24.237074Z",
     "shell.execute_reply": "2022-07-01T11:14:24.235228Z"
    },
    "id": "795234ec",
    "outputId": "954e8331-8ed6-4668-b96b-ee4aaa9011ca",
    "papermill": {
     "duration": 0.038402,
     "end_time": "2022-07-01T11:14:24.239763",
     "exception": false,
     "start_time": "2022-07-01T11:14:24.201361",
     "status": "completed"
    },
    "tags": []
   },
   "outputs": [
    {
     "data": {
      "text/plain": [
       "KNeighborsClassifier(metric='euclidean', n_neighbors=23, weights='distance')"
      ]
     },
     "execution_count": 26,
     "metadata": {},
     "output_type": "execute_result"
    }
   ],
   "source": [
    "model1= KNeighborsClassifier(n_neighbors=23, metric='euclidean',weights = 'distance')  \n",
    "model1.fit(X_train, y_train)  "
   ]
  },
  {
   "cell_type": "code",
   "execution_count": 27,
   "id": "17fb3db1",
   "metadata": {
    "execution": {
     "iopub.execute_input": "2022-07-01T11:14:24.276258Z",
     "iopub.status.busy": "2022-07-01T11:14:24.275838Z",
     "iopub.status.idle": "2022-07-01T11:14:34.898284Z",
     "shell.execute_reply": "2022-07-01T11:14:34.896509Z"
    },
    "id": "96298cc5",
    "papermill": {
     "duration": 10.645893,
     "end_time": "2022-07-01T11:14:34.902186",
     "exception": false,
     "start_time": "2022-07-01T11:14:24.256293",
     "status": "completed"
    },
    "scrolled": true,
    "tags": []
   },
   "outputs": [],
   "source": [
    "predictions_test = model1.predict(X_test)\n",
    "predictions_train = model1.predict(X_train)\n",
    "temp = ['KNeighborsClassifier']\n",
    "temp.append(accuracy_score(predictions_train,y_train))\n",
    "temp.append(recall_score(predictions_train,y_train))\n",
    "temp.append(f1_score(predictions_train,y_train))\n",
    "temp.append(precision_score(predictions_train,y_train))\n",
    "temp.append(accuracy_score(predictions_test,y_test))\n",
    "temp.append(recall_score(predictions_test,y_test))\n",
    "temp.append(f1_score(predictions_test,y_test))\n",
    "temp.append(precision_score(predictions_test,y_test))\n",
    "results.append(temp)"
   ]
  },
  {
   "cell_type": "code",
   "execution_count": 28,
   "id": "2c644384",
   "metadata": {
    "execution": {
     "iopub.execute_input": "2022-07-01T11:14:34.939894Z",
     "iopub.status.busy": "2022-07-01T11:14:34.939324Z",
     "iopub.status.idle": "2022-07-01T11:14:34.950439Z",
     "shell.execute_reply": "2022-07-01T11:14:34.948386Z"
    },
    "id": "ca78da6d",
    "outputId": "a7e71bff-3940-4cf0-9924-f313f1d89042",
    "papermill": {
     "duration": 0.031307,
     "end_time": "2022-07-01T11:14:34.953687",
     "exception": false,
     "start_time": "2022-07-01T11:14:34.922380",
     "status": "completed"
    },
    "tags": []
   },
   "outputs": [
    {
     "name": "stdout",
     "output_type": "stream",
     "text": [
      "[[1678   80]\n",
      " [ 746 1497]]\n"
     ]
    }
   ],
   "source": [
    "confusion = confusion_matrix(predictions_test,y_test)\n",
    "print(confusion)"
   ]
  },
  {
   "cell_type": "markdown",
   "id": "775647e5",
   "metadata": {
    "papermill": {
     "duration": 0.015286,
     "end_time": "2022-07-01T11:14:34.986365",
     "exception": false,
     "start_time": "2022-07-01T11:14:34.971079",
     "status": "completed"
    },
    "tags": []
   },
   "source": [
    "# Logistic Regression"
   ]
  },
  {
   "cell_type": "code",
   "execution_count": 29,
   "id": "c1e85c85",
   "metadata": {
    "execution": {
     "iopub.execute_input": "2022-07-01T11:14:35.029762Z",
     "iopub.status.busy": "2022-07-01T11:14:35.029326Z",
     "iopub.status.idle": "2022-07-01T11:14:38.561450Z",
     "shell.execute_reply": "2022-07-01T11:14:38.559185Z"
    },
    "id": "f7215ac4",
    "papermill": {
     "duration": 3.559471,
     "end_time": "2022-07-01T11:14:38.565596",
     "exception": false,
     "start_time": "2022-07-01T11:14:35.006125",
     "status": "completed"
    },
    "tags": []
   },
   "outputs": [
    {
     "data": {
      "text/plain": [
       "LogisticRegression(C=10, max_iter=1000000, multi_class='ovr', random_state=42)"
      ]
     },
     "execution_count": 29,
     "metadata": {},
     "output_type": "execute_result"
    }
   ],
   "source": [
    "model2 = LogisticRegression(C=10, random_state=42, solver='lbfgs', multi_class='ovr',max_iter=1000000)\n",
    "model2.fit(X_train, y_train)"
   ]
  },
  {
   "cell_type": "code",
   "execution_count": 30,
   "id": "8037c55c",
   "metadata": {
    "execution": {
     "iopub.execute_input": "2022-07-01T11:14:38.670324Z",
     "iopub.status.busy": "2022-07-01T11:14:38.669544Z",
     "iopub.status.idle": "2022-07-01T11:14:38.719594Z",
     "shell.execute_reply": "2022-07-01T11:14:38.718010Z"
    },
    "id": "315286a9",
    "papermill": {
     "duration": 0.100203,
     "end_time": "2022-07-01T11:14:38.723532",
     "exception": false,
     "start_time": "2022-07-01T11:14:38.623329",
     "status": "completed"
    },
    "tags": []
   },
   "outputs": [],
   "source": [
    "predictions_test = model2.predict(X_test)\n",
    "predictions_train = model2.predict(X_train)\n",
    "temp = ['LogisticRegression']\n",
    "temp.append(accuracy_score(predictions_train,y_train))\n",
    "temp.append(recall_score(predictions_train,y_train))\n",
    "temp.append(f1_score(predictions_train,y_train))\n",
    "temp.append(precision_score(predictions_train,y_train))\n",
    "temp.append(accuracy_score(predictions_test,y_test))\n",
    "temp.append(recall_score(predictions_test,y_test))\n",
    "temp.append(f1_score(predictions_test,y_test))\n",
    "temp.append(precision_score(predictions_test,y_test))\n",
    "results.append(temp)"
   ]
  },
  {
   "cell_type": "code",
   "execution_count": 31,
   "id": "76869420",
   "metadata": {
    "execution": {
     "iopub.execute_input": "2022-07-01T11:14:38.758716Z",
     "iopub.status.busy": "2022-07-01T11:14:38.758226Z",
     "iopub.status.idle": "2022-07-01T11:14:38.767416Z",
     "shell.execute_reply": "2022-07-01T11:14:38.766011Z"
    },
    "id": "5c1d2f21",
    "papermill": {
     "duration": 0.030302,
     "end_time": "2022-07-01T11:14:38.770337",
     "exception": false,
     "start_time": "2022-07-01T11:14:38.740035",
     "status": "completed"
    },
    "tags": []
   },
   "outputs": [
    {
     "name": "stdout",
     "output_type": "stream",
     "text": [
      "[[1983  163]\n",
      " [ 441 1414]]\n"
     ]
    }
   ],
   "source": [
    "confusion = confusion_matrix(predictions_test,y_test)\n",
    "print(confusion)"
   ]
  },
  {
   "cell_type": "markdown",
   "id": "a8ddb671",
   "metadata": {
    "papermill": {
     "duration": 0.015729,
     "end_time": "2022-07-01T11:14:38.802450",
     "exception": false,
     "start_time": "2022-07-01T11:14:38.786721",
     "status": "completed"
    },
    "tags": []
   },
   "source": [
    "# Naive Bayes"
   ]
  },
  {
   "cell_type": "code",
   "execution_count": 32,
   "id": "f8e246ee",
   "metadata": {
    "execution": {
     "iopub.execute_input": "2022-07-01T11:14:38.837215Z",
     "iopub.status.busy": "2022-07-01T11:14:38.836820Z",
     "iopub.status.idle": "2022-07-01T11:14:38.851284Z",
     "shell.execute_reply": "2022-07-01T11:14:38.849566Z"
    },
    "id": "e6ce5500",
    "papermill": {
     "duration": 0.035472,
     "end_time": "2022-07-01T11:14:38.854282",
     "exception": false,
     "start_time": "2022-07-01T11:14:38.818810",
     "status": "completed"
    },
    "tags": []
   },
   "outputs": [
    {
     "data": {
      "text/plain": [
       "MultinomialNB(alpha=0.5, fit_prior='True')"
      ]
     },
     "execution_count": 32,
     "metadata": {},
     "output_type": "execute_result"
    }
   ],
   "source": [
    "model3 = MultinomialNB(alpha = 0.5, fit_prior = 'True')\n",
    "model3.fit(X_train, y_train)"
   ]
  },
  {
   "cell_type": "code",
   "execution_count": 33,
   "id": "38c4b2d0",
   "metadata": {
    "execution": {
     "iopub.execute_input": "2022-07-01T11:14:38.889911Z",
     "iopub.status.busy": "2022-07-01T11:14:38.889447Z",
     "iopub.status.idle": "2022-07-01T11:14:38.935556Z",
     "shell.execute_reply": "2022-07-01T11:14:38.934227Z"
    },
    "id": "87a23fda",
    "papermill": {
     "duration": 0.067588,
     "end_time": "2022-07-01T11:14:38.938945",
     "exception": false,
     "start_time": "2022-07-01T11:14:38.871357",
     "status": "completed"
    },
    "tags": []
   },
   "outputs": [],
   "source": [
    "predictions_test = model3.predict(X_test)\n",
    "predictions_train = model3.predict(X_train)\n",
    "temp = ['MultinomialNB']\n",
    "temp.append(accuracy_score(predictions_train,y_train))\n",
    "temp.append(recall_score(predictions_train,y_train))\n",
    "temp.append(f1_score(predictions_train,y_train))\n",
    "temp.append(precision_score(predictions_train,y_train))\n",
    "temp.append(accuracy_score(predictions_test,y_test))\n",
    "temp.append(recall_score(predictions_test,y_test))\n",
    "temp.append(f1_score(predictions_test,y_test))\n",
    "temp.append(precision_score(predictions_test,y_test))\n",
    "results.append(temp)"
   ]
  },
  {
   "cell_type": "code",
   "execution_count": 34,
   "id": "3497ddf8",
   "metadata": {
    "execution": {
     "iopub.execute_input": "2022-07-01T11:14:38.981455Z",
     "iopub.status.busy": "2022-07-01T11:14:38.980760Z",
     "iopub.status.idle": "2022-07-01T11:14:38.993869Z",
     "shell.execute_reply": "2022-07-01T11:14:38.991892Z"
    },
    "id": "90aa5df8",
    "papermill": {
     "duration": 0.037205,
     "end_time": "2022-07-01T11:14:38.997069",
     "exception": false,
     "start_time": "2022-07-01T11:14:38.959864",
     "status": "completed"
    },
    "tags": []
   },
   "outputs": [
    {
     "name": "stdout",
     "output_type": "stream",
     "text": [
      "[[1986  370]\n",
      " [ 438 1207]]\n"
     ]
    }
   ],
   "source": [
    "confusion = confusion_matrix(predictions_test,y_test)\n",
    "print(confusion)"
   ]
  },
  {
   "cell_type": "markdown",
   "id": "a4dc705f",
   "metadata": {
    "papermill": {
     "duration": 0.015871,
     "end_time": "2022-07-01T11:14:39.032066",
     "exception": false,
     "start_time": "2022-07-01T11:14:39.016195",
     "status": "completed"
    },
    "tags": []
   },
   "source": [
    "# Linear SVC"
   ]
  },
  {
   "cell_type": "code",
   "execution_count": 35,
   "id": "15858b40",
   "metadata": {
    "execution": {
     "iopub.execute_input": "2022-07-01T11:14:39.069328Z",
     "iopub.status.busy": "2022-07-01T11:14:39.068566Z",
     "iopub.status.idle": "2022-07-01T11:14:39.670069Z",
     "shell.execute_reply": "2022-07-01T11:14:39.668282Z"
    },
    "id": "0f220557",
    "papermill": {
     "duration": 0.622914,
     "end_time": "2022-07-01T11:14:39.672986",
     "exception": false,
     "start_time": "2022-07-01T11:14:39.050072",
     "status": "completed"
    },
    "tags": []
   },
   "outputs": [
    {
     "data": {
      "text/plain": [
       "LinearSVC(C=1, max_iter=1000000, random_state=42)"
      ]
     },
     "execution_count": 35,
     "metadata": {},
     "output_type": "execute_result"
    }
   ],
   "source": [
    "model4 = LinearSVC(C = 1, max_iter=1000000,random_state=42)\n",
    "model4.fit(X_train, y_train)"
   ]
  },
  {
   "cell_type": "code",
   "execution_count": 36,
   "id": "b5c6f0a3",
   "metadata": {
    "execution": {
     "iopub.execute_input": "2022-07-01T11:14:39.709546Z",
     "iopub.status.busy": "2022-07-01T11:14:39.709028Z",
     "iopub.status.idle": "2022-07-01T11:14:39.755313Z",
     "shell.execute_reply": "2022-07-01T11:14:39.753958Z"
    },
    "id": "57f277ab",
    "papermill": {
     "duration": 0.068304,
     "end_time": "2022-07-01T11:14:39.757920",
     "exception": false,
     "start_time": "2022-07-01T11:14:39.689616",
     "status": "completed"
    },
    "tags": []
   },
   "outputs": [],
   "source": [
    "predictions_test = model4.predict(X_test)\n",
    "predictions_train = model4.predict(X_train)\n",
    "temp = ['LinearSVC']\n",
    "temp.append(accuracy_score(predictions_train,y_train))\n",
    "temp.append(recall_score(predictions_train,y_train))\n",
    "temp.append(f1_score(predictions_train,y_train))\n",
    "temp.append(precision_score(predictions_train,y_train))\n",
    "temp.append(accuracy_score(predictions_test,y_test))\n",
    "temp.append(recall_score(predictions_test,y_test))\n",
    "temp.append(f1_score(predictions_test,y_test))\n",
    "temp.append(precision_score(predictions_test,y_test))\n",
    "results.append(temp)"
   ]
  },
  {
   "cell_type": "code",
   "execution_count": 37,
   "id": "72d1c6c9",
   "metadata": {
    "execution": {
     "iopub.execute_input": "2022-07-01T11:14:39.793588Z",
     "iopub.status.busy": "2022-07-01T11:14:39.793091Z",
     "iopub.status.idle": "2022-07-01T11:14:39.802877Z",
     "shell.execute_reply": "2022-07-01T11:14:39.800803Z"
    },
    "id": "214eea79",
    "papermill": {
     "duration": 0.031698,
     "end_time": "2022-07-01T11:14:39.805799",
     "exception": false,
     "start_time": "2022-07-01T11:14:39.774101",
     "status": "completed"
    },
    "tags": []
   },
   "outputs": [
    {
     "name": "stdout",
     "output_type": "stream",
     "text": [
      "[[1967  162]\n",
      " [ 457 1415]]\n"
     ]
    }
   ],
   "source": [
    "confusion = confusion_matrix(predictions_test,y_test)\n",
    "print(confusion)"
   ]
  },
  {
   "cell_type": "markdown",
   "id": "ee728551",
   "metadata": {
    "papermill": {
     "duration": 0.021322,
     "end_time": "2022-07-01T11:14:39.844781",
     "exception": false,
     "start_time": "2022-07-01T11:14:39.823459",
     "status": "completed"
    },
    "tags": []
   },
   "source": [
    "# Summary"
   ]
  },
  {
   "cell_type": "code",
   "execution_count": 38,
   "id": "8c5fe793",
   "metadata": {
    "execution": {
     "iopub.execute_input": "2022-07-01T11:14:39.882869Z",
     "iopub.status.busy": "2022-07-01T11:14:39.882328Z",
     "iopub.status.idle": "2022-07-01T11:14:39.903332Z",
     "shell.execute_reply": "2022-07-01T11:14:39.902235Z"
    },
    "id": "10bab3d4",
    "papermill": {
     "duration": 0.045498,
     "end_time": "2022-07-01T11:14:39.906753",
     "exception": false,
     "start_time": "2022-07-01T11:14:39.861255",
     "status": "completed"
    },
    "tags": []
   },
   "outputs": [
    {
     "data": {
      "text/html": [
       "<div>\n",
       "<style scoped>\n",
       "    .dataframe tbody tr th:only-of-type {\n",
       "        vertical-align: middle;\n",
       "    }\n",
       "\n",
       "    .dataframe tbody tr th {\n",
       "        vertical-align: top;\n",
       "    }\n",
       "\n",
       "    .dataframe thead th {\n",
       "        text-align: right;\n",
       "    }\n",
       "</style>\n",
       "<table border=\"1\" class=\"dataframe\">\n",
       "  <thead>\n",
       "    <tr style=\"text-align: right;\">\n",
       "      <th></th>\n",
       "      <th>Algorithm</th>\n",
       "      <th>Accuracy Score : Train</th>\n",
       "      <th>Recall Score : Train</th>\n",
       "      <th>F1-Score :Train</th>\n",
       "      <th>Precision Score :Train</th>\n",
       "      <th>Accuracy Score : Test</th>\n",
       "      <th>Recall Score : Test</th>\n",
       "      <th>F1-Score : Test</th>\n",
       "      <th>Precision Score : Test</th>\n",
       "    </tr>\n",
       "  </thead>\n",
       "  <tbody>\n",
       "    <tr>\n",
       "      <th>0</th>\n",
       "      <td>KNeighborsClassifier</td>\n",
       "      <td>0.993625</td>\n",
       "      <td>0.989482</td>\n",
       "      <td>0.991853</td>\n",
       "      <td>0.994235</td>\n",
       "      <td>0.793552</td>\n",
       "      <td>0.667410</td>\n",
       "      <td>0.783770</td>\n",
       "      <td>0.949271</td>\n",
       "    </tr>\n",
       "    <tr>\n",
       "      <th>1</th>\n",
       "      <td>LogisticRegression</td>\n",
       "      <td>0.964187</td>\n",
       "      <td>0.956683</td>\n",
       "      <td>0.953994</td>\n",
       "      <td>0.951321</td>\n",
       "      <td>0.849038</td>\n",
       "      <td>0.762264</td>\n",
       "      <td>0.824009</td>\n",
       "      <td>0.896639</td>\n",
       "    </tr>\n",
       "    <tr>\n",
       "      <th>2</th>\n",
       "      <td>MultinomialNB</td>\n",
       "      <td>0.893938</td>\n",
       "      <td>0.873767</td>\n",
       "      <td>0.862357</td>\n",
       "      <td>0.851241</td>\n",
       "      <td>0.798050</td>\n",
       "      <td>0.733739</td>\n",
       "      <td>0.749224</td>\n",
       "      <td>0.765377</td>\n",
       "    </tr>\n",
       "    <tr>\n",
       "      <th>3</th>\n",
       "      <td>LinearSVC</td>\n",
       "      <td>0.963938</td>\n",
       "      <td>0.954750</td>\n",
       "      <td>0.953755</td>\n",
       "      <td>0.952762</td>\n",
       "      <td>0.845289</td>\n",
       "      <td>0.755876</td>\n",
       "      <td>0.820528</td>\n",
       "      <td>0.897273</td>\n",
       "    </tr>\n",
       "  </tbody>\n",
       "</table>\n",
       "</div>"
      ],
      "text/plain": [
       "              Algorithm  Accuracy Score : Train  Recall Score : Train  \\\n",
       "0  KNeighborsClassifier  0.993625                0.989482               \n",
       "1  LogisticRegression    0.964187                0.956683               \n",
       "2  MultinomialNB         0.893938                0.873767               \n",
       "3  LinearSVC             0.963938                0.954750               \n",
       "\n",
       "   F1-Score :Train  Precision Score :Train  Accuracy Score : Test  \\\n",
       "0  0.991853         0.994235                0.793552                \n",
       "1  0.953994         0.951321                0.849038                \n",
       "2  0.862357         0.851241                0.798050                \n",
       "3  0.953755         0.952762                0.845289                \n",
       "\n",
       "   Recall Score : Test  F1-Score : Test  Precision Score : Test  \n",
       "0  0.667410             0.783770         0.949271                \n",
       "1  0.762264             0.824009         0.896639                \n",
       "2  0.733739             0.749224         0.765377                \n",
       "3  0.755876             0.820528         0.897273                "
      ]
     },
     "execution_count": 38,
     "metadata": {},
     "output_type": "execute_result"
    }
   ],
   "source": [
    "results = pd.DataFrame(results, columns = ['Algorithm','Accuracy Score : Train', 'Recall Score : Train','F1-Score :Train','Precision Score :Train','Accuracy Score : Test', 'Recall Score : Test','F1-Score : Test','Precision Score : Test'])\n",
    "results"
   ]
  },
  {
   "cell_type": "markdown",
   "id": "c10322d9",
   "metadata": {
    "papermill": {
     "duration": 0.018804,
     "end_time": "2022-07-01T11:14:39.947233",
     "exception": false,
     "start_time": "2022-07-01T11:14:39.928429",
     "status": "completed"
    },
    "tags": []
   },
   "source": [
    "# Saving models as pickle files"
   ]
  },
  {
   "cell_type": "code",
   "execution_count": 39,
   "id": "1dc8526b",
   "metadata": {
    "execution": {
     "iopub.execute_input": "2022-07-01T11:14:39.986760Z",
     "iopub.status.busy": "2022-07-01T11:14:39.986218Z",
     "iopub.status.idle": "2022-07-01T11:14:39.991975Z",
     "shell.execute_reply": "2022-07-01T11:14:39.990482Z"
    },
    "id": "p4rsfRVZdqXm",
    "papermill": {
     "duration": 0.028339,
     "end_time": "2022-07-01T11:14:39.995076",
     "exception": false,
     "start_time": "2022-07-01T11:14:39.966737",
     "status": "completed"
    },
    "tags": []
   },
   "outputs": [],
   "source": [
    "import pickle\n"
   ]
  },
  {
   "cell_type": "code",
   "execution_count": 40,
   "id": "44d7ab87",
   "metadata": {
    "execution": {
     "iopub.execute_input": "2022-07-01T11:14:40.035828Z",
     "iopub.status.busy": "2022-07-01T11:14:40.035303Z",
     "iopub.status.idle": "2022-07-01T11:14:40.049458Z",
     "shell.execute_reply": "2022-07-01T11:14:40.048187Z"
    },
    "papermill": {
     "duration": 0.038522,
     "end_time": "2022-07-01T11:14:40.052190",
     "exception": false,
     "start_time": "2022-07-01T11:14:40.013668",
     "status": "completed"
    },
    "tags": []
   },
   "outputs": [],
   "source": [
    "pickle_out = open(\"vectorizer.pkl\",\"wb\")\n",
    "pickle.dump(count_vector, pickle_out)\n",
    "pickle_out.close()"
   ]
  },
  {
   "cell_type": "code",
   "execution_count": 41,
   "id": "46c98483",
   "metadata": {
    "execution": {
     "iopub.execute_input": "2022-07-01T11:14:40.089927Z",
     "iopub.status.busy": "2022-07-01T11:14:40.088754Z",
     "iopub.status.idle": "2022-07-01T11:14:40.097394Z",
     "shell.execute_reply": "2022-07-01T11:14:40.096018Z"
    },
    "id": "4261b5d8",
    "papermill": {
     "duration": 0.031878,
     "end_time": "2022-07-01T11:14:40.100401",
     "exception": false,
     "start_time": "2022-07-01T11:14:40.068523",
     "status": "completed"
    },
    "tags": []
   },
   "outputs": [],
   "source": [
    "pickle_out = open(\"LinearSVC.pkl\",\"wb\")\n",
    "pickle.dump(model4, pickle_out)\n",
    "pickle_out.close()"
   ]
  },
  {
   "cell_type": "code",
   "execution_count": 42,
   "id": "9d05c610",
   "metadata": {
    "execution": {
     "iopub.execute_input": "2022-07-01T11:14:40.141588Z",
     "iopub.status.busy": "2022-07-01T11:14:40.141040Z",
     "iopub.status.idle": "2022-07-01T11:14:40.150615Z",
     "shell.execute_reply": "2022-07-01T11:14:40.148465Z"
    },
    "id": "a7559bb4",
    "papermill": {
     "duration": 0.035686,
     "end_time": "2022-07-01T11:14:40.154788",
     "exception": false,
     "start_time": "2022-07-01T11:14:40.119102",
     "status": "completed"
    },
    "tags": []
   },
   "outputs": [],
   "source": [
    "pickle_out = open(\"MultinomialNB.pkl\",\"wb\")\n",
    "pickle.dump(model3, pickle_out)\n",
    "pickle_out.close()"
   ]
  },
  {
   "cell_type": "code",
   "execution_count": 43,
   "id": "7d8a2bb2",
   "metadata": {
    "execution": {
     "iopub.execute_input": "2022-07-01T11:14:40.192767Z",
     "iopub.status.busy": "2022-07-01T11:14:40.192241Z",
     "iopub.status.idle": "2022-07-01T11:14:40.199668Z",
     "shell.execute_reply": "2022-07-01T11:14:40.198673Z"
    },
    "id": "TuI5hWEwZpef",
    "papermill": {
     "duration": 0.028397,
     "end_time": "2022-07-01T11:14:40.202216",
     "exception": false,
     "start_time": "2022-07-01T11:14:40.173819",
     "status": "completed"
    },
    "tags": []
   },
   "outputs": [],
   "source": [
    "pickle_out = open(\"LogisticRegression.pkl\",\"wb\")\n",
    "pickle.dump(model2, pickle_out)\n",
    "pickle_out.close()"
   ]
  },
  {
   "cell_type": "code",
   "execution_count": 44,
   "id": "b9262594",
   "metadata": {
    "execution": {
     "iopub.execute_input": "2022-07-01T11:14:40.243493Z",
     "iopub.status.busy": "2022-07-01T11:14:40.242948Z",
     "iopub.status.idle": "2022-07-01T11:14:40.253714Z",
     "shell.execute_reply": "2022-07-01T11:14:40.251982Z"
    },
    "id": "pRIzmhCTZqRl",
    "papermill": {
     "duration": 0.035114,
     "end_time": "2022-07-01T11:14:40.256634",
     "exception": false,
     "start_time": "2022-07-01T11:14:40.221520",
     "status": "completed"
    },
    "tags": []
   },
   "outputs": [],
   "source": [
    "pickle_out = open(\"KNeighborsClassifier.pkl\",\"wb\")\n",
    "pickle.dump(model1, pickle_out)\n",
    "pickle_out.close()"
   ]
  },
  {
   "cell_type": "code",
   "execution_count": null,
   "id": "b319264c",
   "metadata": {
    "papermill": {
     "duration": 0.017636,
     "end_time": "2022-07-01T11:14:40.291778",
     "exception": false,
     "start_time": "2022-07-01T11:14:40.274142",
     "status": "completed"
    },
    "tags": []
   },
   "outputs": [],
   "source": []
  }
 ],
 "metadata": {
  "kernelspec": {
   "display_name": "Python 3",
   "language": "python",
   "name": "python3"
  },
  "language_info": {
   "codemirror_mode": {
    "name": "ipython",
    "version": 3
   },
   "file_extension": ".py",
   "mimetype": "text/x-python",
   "name": "python",
   "nbconvert_exporter": "python",
   "pygments_lexer": "ipython3",
   "version": "3.7.12"
  },
  "papermill": {
   "default_parameters": {},
   "duration": 352.233459,
   "end_time": "2022-07-01T11:14:41.939275",
   "environment_variables": {},
   "exception": null,
   "input_path": "__notebook__.ipynb",
   "output_path": "__notebook__.ipynb",
   "parameters": {},
   "start_time": "2022-07-01T11:08:49.705816",
   "version": "2.3.4"
  }
 },
 "nbformat": 4,
 "nbformat_minor": 5
}
